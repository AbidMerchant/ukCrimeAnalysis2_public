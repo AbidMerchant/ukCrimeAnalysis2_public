{
 "cells": [
  {
   "cell_type": "markdown",
   "metadata": {},
   "source": [
    "# Big Data Analysis Report on \"Weapons and Drugs\""
   ]
  },
  {
   "cell_type": "markdown",
   "metadata": {},
   "source": [
    "<pre>\n",
    "In this report, we will try to analyze 3 claims made at <b>“Ross Kemp and the Armed Police” broadcast 6th September 2018 by ITV</b>\n",
    "\n",
    "The claims made at the show were:\n",
    "1. Violent Crime is increasing\n",
    "2. There are more firearms incidents per head in Birmingham than anywhere else in the UK\n",
    "3. Crimes involving firearms are closely associated with drugs offences\n",
    "\n",
    "We will try to analyze each of the claim on the basis of data, tools used for the analyses will be Spark Core, Spark ML, Matplotlib etc.\n",
    "</pre>"
   ]
  },
  {
   "cell_type": "markdown",
   "metadata": {},
   "source": [
    "----------------------------------------------------------------------------------------------------------"
   ]
  },
  {
   "cell_type": "markdown",
   "metadata": {},
   "source": [
    "<pre>\n",
    "Before we start any analysis, lets read all the required libraries we will be needing to do the analysis.\n",
    "</pre>"
   ]
  },
  {
   "cell_type": "code",
   "execution_count": 1,
   "metadata": {},
   "outputs": [],
   "source": [
    "from pyspark.sql.session import SparkSession\n",
    "from pyspark.sql import functions as fn\n",
    "from pyspark.sql.types import *\n",
    "from pyspark.sql import Window\n",
    "\n",
    "from matplotlib import pyplot as plt\n",
    "\n",
    "from pyspark.ml.stat import ChiSquareTest\n",
    "from pyspark.ml.feature import VectorAssembler"
   ]
  },
  {
   "cell_type": "markdown",
   "metadata": {},
   "source": [
    "<pre>\n",
    "Spark Session is the entry point to access all the APIs of Spark Core. Let us initialize spark session variable in the next cell by giving all the required parameters\n",
    "</pre>"
   ]
  },
  {
   "cell_type": "code",
   "execution_count": 2,
   "metadata": {},
   "outputs": [],
   "source": [
    "spark = SparkSession \\\n",
    "                    .builder \\\n",
    "                    .appName(\"Weapons And Drugs\") \\\n",
    "                    .getOrCreate()"
   ]
  },
  {
   "cell_type": "code",
   "execution_count": 3,
   "metadata": {},
   "outputs": [
    {
     "data": {
      "text/html": [
       "\n",
       "            <div>\n",
       "                <p><b>SparkSession - hive</b></p>\n",
       "                \n",
       "        <div>\n",
       "            <p><b>SparkContext</b></p>\n",
       "\n",
       "            <p><a href=\"http://10.0.2.15:4040\">Spark UI</a></p>\n",
       "\n",
       "            <dl>\n",
       "              <dt>Version</dt>\n",
       "                <dd><code>v2.4.4</code></dd>\n",
       "              <dt>Master</dt>\n",
       "                <dd><code>spark://spark-VirtualBox:7077</code></dd>\n",
       "              <dt>AppName</dt>\n",
       "                <dd><code>developer</code></dd>\n",
       "            </dl>\n",
       "        </div>\n",
       "        \n",
       "            </div>\n",
       "        "
      ],
      "text/plain": [
       "<pyspark.sql.session.SparkSession at 0x7f7ec457e5c0>"
      ]
     },
     "execution_count": 3,
     "metadata": {},
     "output_type": "execute_result"
    }
   ],
   "source": [
    "spark"
   ]
  },
  {
   "cell_type": "markdown",
   "metadata": {},
   "source": [
    "<pre>\n",
    "So, now as the SparkSession variable have been initialized, lets now proceed to analyze the claims made at the show.\n",
    "</pre>"
   ]
  },
  {
   "cell_type": "markdown",
   "metadata": {},
   "source": [
    "## Claim1: Violent Crime is increasing"
   ]
  },
  {
   "cell_type": "markdown",
   "metadata": {},
   "source": [
    "<pre>\n",
    "To prove this claim, we will need UK crime dataset which is available at the UK Crime Department official website<sup>[1]</sup>. \n",
    "\n",
    "    The dataset contains crime data in UK with coordinated and the Region Code (known as LSOA) which helps in understanding the crime trends in each of the regions. Dataset is of 1.7 GB size in compressed form and have data with more than 15 years and about 45 Million records. So, overall the dataset is a huge one with all the necessary details required to analyze our claim 1.\n",
    "    \n",
    "So without further ado, lets proceed and read our dataset.\n",
    "</pre>"
   ]
  },
  {
   "cell_type": "code",
   "execution_count": 4,
   "metadata": {
    "scrolled": true
   },
   "outputs": [
    {
     "name": "stdout",
     "output_type": "stream",
     "text": [
      "+--------+-------+---------+---------------------------------+---------------------+\n",
      "|crime_id|month  |lsoa_code|lsoa_name                        |crime_type           |\n",
      "+--------+-------+---------+---------------------------------+---------------------+\n",
      "|null    |2010-12|E01017662|Aylesbury Vale 015C              |Other crime          |\n",
      "|null    |2010-12|E01014399|Bath and North East Somerset 001A|Anti-social behaviour|\n",
      "|null    |2010-12|E01014399|Bath and North East Somerset 001A|Anti-social behaviour|\n",
      "|null    |2010-12|E01014399|Bath and North East Somerset 001A|Anti-social behaviour|\n",
      "|null    |2010-12|E01014399|Bath and North East Somerset 001A|Anti-social behaviour|\n",
      "|null    |2010-12|E01014399|Bath and North East Somerset 001A|Anti-social behaviour|\n",
      "|null    |2010-12|E01014399|Bath and North East Somerset 001A|Burglary             |\n",
      "|null    |2010-12|E01014399|Bath and North East Somerset 001A|Burglary             |\n",
      "|null    |2010-12|E01014399|Bath and North East Somerset 001A|Other crime          |\n",
      "|null    |2010-12|E01014400|Bath and North East Somerset 001B|Anti-social behaviour|\n",
      "+--------+-------+---------+---------------------------------+---------------------+\n",
      "only showing top 10 rows\n",
      "\n"
     ]
    }
   ],
   "source": [
    "# We will automatically inferSchema and header from the dataset\n",
    "uk_crimes_df = spark.read.format(\"csv\") \\\n",
    "                         .option(\"delimiter\", ',') \\\n",
    "                         .option(\"header\", True) \\\n",
    "                         .option(\"inferSchema\", True) \\\n",
    "                         .load(\"/home/hduser/work/nikhil/dataset/all_crimes18_hdr.txt.gz\")\n",
    "\n",
    "# As the column names are little messy, we will rename the columns and select only the required columns from the \n",
    "# dataset for further analysis\n",
    "uk_crimes_df = uk_crimes_df.withColumnRenamed(\"Crime ID\", \"crime_id\") \\\n",
    "                           .withColumnRenamed(\"Month\", \"month\") \\\n",
    "                           .withColumnRenamed(\"LSOA code\", \"lsoa_code\") \\\n",
    "                           .withColumnRenamed(\"LSOA name\", \"lsoa_name\") \\\n",
    "                           .withColumnRenamed(\"Crime type\", \"crime_type\") \\\n",
    "                           .select(\"crime_id\", \"month\", \"lsoa_code\", \"lsoa_name\", \"crime_type\")\n",
    "\n",
    "# Lets check out some of the data\n",
    "uk_crimes_df.show(10, False)"
   ]
  },
  {
   "cell_type": "markdown",
   "metadata": {},
   "source": [
    "<pre>\n",
    "As we can see, some of the crime_id data are null, so lets filter out such data so we have better veracity of data\n",
    "</pre>"
   ]
  },
  {
   "cell_type": "code",
   "execution_count": 5,
   "metadata": {},
   "outputs": [
    {
     "name": "stdout",
     "output_type": "stream",
     "text": [
      "Count:  27219493\n",
      "+----------------------------------------------------------------+-------+---------+-------------+-------------+\n",
      "|crime_id                                                        |month  |lsoa_code|lsoa_name    |crime_type   |\n",
      "+----------------------------------------------------------------+-------+---------+-------------+-------------+\n",
      "|6dae6f1d627f943b964aa6811c7d72a0d84b04c3e78ff2771c5e4c4be1cf2ba6|2010-12|E01027979|Ashfield 001A|Burglary     |\n",
      "|f41943f3f036bd20213416925de78618e42fd6f000f2e8fc3c81d5cde7bc1127|2010-12|E01027979|Ashfield 001A|Other crime  |\n",
      "|d99b5a5717cd1a93a43a4dc135e8f8936baf792664cabeb59eae503c3aa599fc|2010-12|E01027979|Ashfield 001A|Other crime  |\n",
      "|e830903bf868402f8523cfb016cd8707cd2cdf39925f008fc67f691060fa755f|2010-12|E01027979|Ashfield 001A|Other crime  |\n",
      "|ed992f91018253c6c7eaa116f2f4de7fae7b75a342a005e6dd13b11bd9575e48|2010-12|E01027980|Ashfield 001B|Burglary     |\n",
      "|abc7e8785381dec2a7a65da2ffe91026af7f133d110efdabe08b48c903bc6fd2|2010-12|E01027980|Ashfield 001B|Violent crime|\n",
      "|adacfb96927f374ef5d68f0c8f96b64bb6beca9a22c05ce312cca7b1a37e93e5|2010-12|E01027980|Ashfield 001B|Violent crime|\n",
      "|8aca20a37ce20ef5c99721fcd742aa7f06274e1154df0979bec93e03d94be5fb|2010-12|E01027980|Ashfield 001B|Violent crime|\n",
      "|d2a718e04ffad76701dac928b2f4661b8e638da6370785e24d7b2686b4b0d9cf|2010-12|E01027980|Ashfield 001B|Other crime  |\n",
      "|96f62e012c5ea65d468675328427d25c322f478bd66c218ee9fd14adc0effb31|2010-12|E01027980|Ashfield 001B|Other crime  |\n",
      "+----------------------------------------------------------------+-------+---------+-------------+-------------+\n",
      "only showing top 10 rows\n",
      "\n"
     ]
    }
   ],
   "source": [
    "uk_crimes_df = uk_crimes_df.where(fn.col(\"crime_id\").isNotNull())\n",
    "\n",
    "# Lets check the count of the final dataset\n",
    "print(\"Count: \",uk_crimes_df.count())\n",
    "\n",
    "uk_crimes_df.show(10, False)"
   ]
  },
  {
   "cell_type": "markdown",
   "metadata": {},
   "source": [
    "<pre>\n",
    "To check if the violent crimes are increasing, we will firstly filter out the crimes related to violence and then aggregate the data at month level and find the count of violent crimes for each month to understand whether the violent crime is increasing or not.\n",
    "</pre>"
   ]
  },
  {
   "cell_type": "code",
   "execution_count": 23,
   "metadata": {},
   "outputs": [
    {
     "name": "stdout",
     "output_type": "stream",
     "text": [
      "+----------------------------+\n",
      "|crime_type                  |\n",
      "+----------------------------+\n",
      "|Bicycle theft               |\n",
      "|Public order                |\n",
      "|Drugs                       |\n",
      "|Public disorder and weapons |\n",
      "|Other crime                 |\n",
      "|Robbery                     |\n",
      "|Criminal damage and arson   |\n",
      "|Theft from the person       |\n",
      "|Shoplifting                 |\n",
      "|Burglary                    |\n",
      "|Violent crime               |\n",
      "|Other theft                 |\n",
      "|Possession of weapons       |\n",
      "|Violence and sexual offences|\n",
      "|Vehicle crime               |\n",
      "+----------------------------+\n",
      "\n"
     ]
    }
   ],
   "source": [
    "# Lets check the types of crimes as per the dataset\n",
    "\n",
    "uk_crimes_df.select(\"crime_type\").distinct().show(50, False)"
   ]
  },
  {
   "cell_type": "code",
   "execution_count": 22,
   "metadata": {},
   "outputs": [
    {
     "data": {
      "text/plain": [
       "92"
      ]
     },
     "execution_count": 22,
     "metadata": {},
     "output_type": "execute_result"
    }
   ],
   "source": [
    "# Lets check how many months of data we have in our dataset\n",
    "\n",
    "uk_crimes_df.select(\"month\").distinct().count()"
   ]
  },
  {
   "cell_type": "code",
   "execution_count": 24,
   "metadata": {},
   "outputs": [],
   "source": [
    "# Getting data related to violent crimes\n",
    "\n",
    "violent_crimes_list = ['Public disorder and weapons', 'Criminal damage and arson', 'Violent crime',\n",
    "                       'Possession of weapons', 'Violence and sexual offences']\n",
    "\n",
    "uk_violent_crimes_df = uk_crimes_df.where(fn.col(\"crime_type\").isin(violent_crimes_list))"
   ]
  },
  {
   "cell_type": "markdown",
   "metadata": {},
   "source": [
    "<pre>\n",
    "Now, as we have the data related to violent crimes, we will group the data on monthly basis and visualize the data to check whether the claim 'Violent Crimes are increasing' is true or not\n",
    "</pre>"
   ]
  },
  {
   "cell_type": "code",
   "execution_count": 26,
   "metadata": {},
   "outputs": [
    {
     "data": {
      "image/png": "[encoded data removed]",
      "text/plain": [
       "<Figure size 1152x576 with 1 Axes>"
      ]
     },
     "metadata": {
      "needs_background": "light"
     },
     "output_type": "display_data"
    }
   ],
   "source": [
    "grouped_df = uk_violent_crimes_df.groupBy(\"month\").count()\n",
    "grouped_pd = grouped_df.orderBy(\"month\").toPandas()\n",
    "\n",
    "\n",
    "# Visualizing the data using Line Graph\n",
    "grouped_pd.plot(x=\"month\", y=\"count\", kind=\"line\", figsize=(16, 8))\n",
    "plt.title(\"Month Violent Crimes cases count\")\n",
    "plt.xlabel(\"Month\")\n",
    "plt.ylabel(\"Count of Violent Cases\")\n",
    "plt.show()"
   ]
  },
  {
   "cell_type": "markdown",
   "metadata": {},
   "source": [
    "<pre>\n",
    "So as the graph is showing, the number of cases are increasing regularly. So the claim made holds true, but for further proof, lets us find the average percentage increase in number of cases per each month.\n",
    "</pre>"
   ]
  },
  {
   "cell_type": "code",
   "execution_count": 36,
   "metadata": {},
   "outputs": [],
   "source": [
    "# To calculate average percentage, firstly lets get the change in count of cases per each month\n",
    "\n",
    "window = Window.orderBy(\"month\")\n",
    "\n",
    "grouped_df2 = grouped_df.withColumn(\"prev_month_count\", fn.lag(fn.col(\"count\"), 1).over(window))"
   ]
  },
  {
   "cell_type": "code",
   "execution_count": 37,
   "metadata": {},
   "outputs": [
    {
     "name": "stdout",
     "output_type": "stream",
     "text": [
      "+-------+------+----------------+\n",
      "|  month| count|prev_month_count|\n",
      "+-------+------+----------------+\n",
      "|2010-12|  1067|            null|\n",
      "|2011-01|  1080|            1067|\n",
      "|2011-02|   975|            1080|\n",
      "|2011-03|  1185|             975|\n",
      "|2011-04|  5218|            1185|\n",
      "|2011-05|  5044|            5218|\n",
      "|2011-06|  4972|            5044|\n",
      "|2011-07|  4863|            4972|\n",
      "|2011-08|  4909|            4863|\n",
      "|2011-09| 17765|            4909|\n",
      "|2011-10| 22800|           17765|\n",
      "|2011-11| 23894|           22800|\n",
      "|2011-12|110119|           23894|\n",
      "|2012-01|116016|          110119|\n",
      "|2012-02|106394|          116016|\n",
      "|2012-03|122203|          106394|\n",
      "|2012-04|110413|          122203|\n",
      "|2012-05|119312|          110413|\n",
      "|2012-06|112778|          119312|\n",
      "|2012-07|119632|          112778|\n",
      "+-------+------+----------------+\n",
      "only showing top 20 rows\n",
      "\n"
     ]
    }
   ],
   "source": [
    "grouped_df2.where(fn.col(\"prev_month_count\").isNotNull())"
   ]
  },
  {
   "cell_type": "code",
   "execution_count": 39,
   "metadata": {},
   "outputs": [],
   "source": [
    "# Now, we will calculate the percentage change in count for each month\n",
    "grouped_df3 = grouped_df2.where(fn.col(\"prev_month_count\").isNotNull())\\\n",
    "                         .withColumn(\"percentage_change\", \n",
    "                             fn.round(100*(( fn.col(\"count\")-fn.col(\"prev_month_count\"))/fn.col(\"count\")), 2))"
   ]
  },
  {
   "cell_type": "code",
   "execution_count": 40,
   "metadata": {
    "scrolled": false
   },
   "outputs": [
    {
     "data": {
      "image/png": "[encoded data removed]",
      "text/plain": [
       "<Figure size 1152x576 with 1 Axes>"
      ]
     },
     "metadata": {
      "needs_background": "light"
     },
     "output_type": "display_data"
    }
   ],
   "source": [
    "grouped_pd2 = grouped_df3.orderBy(\"month\").toPandas()\n",
    "\n",
    "# Visualizing the data using Line Graph\n",
    "grouped_pd2.plot(x=\"month\", y=\"percentage_change\", kind=\"line\", figsize=(16, 8))\n",
    "plt.title(\"Percentage change is violent crimes\")\n",
    "plt.xlabel(\"Month\")\n",
    "plt.ylabel(\"Percentage change\")\n",
    "plt.show()"
   ]
  },
  {
   "cell_type": "code",
   "execution_count": 42,
   "metadata": {},
   "outputs": [
    {
     "name": "stdout",
     "output_type": "stream",
     "text": [
      "+---------------------+\n",
      "|avg_percentage_change|\n",
      "+---------------------+\n",
      "|     3.40967032967033|\n",
      "+---------------------+\n",
      "\n"
     ]
    }
   ],
   "source": [
    "# Finding average percentage change in number of violent cases \n",
    "\n",
    "grouped_df3.agg(fn.avg(\"percentage_change\").alias(\"avg_percentage_change\")).show()"
   ]
  },
  {
   "cell_type": "markdown",
   "metadata": {},
   "source": [
    "<pre>\n",
    "So with the above analysis showing that the average percentage increase in violent cases is positive \n",
    "(~3.4%), we can conclude that the claim that <i>\"Violent Crimes are increasing\"</i> holds true.\n",
    "\n",
    "With this claim analyzed, let us move on to analyzing our second claim...\n",
    "</pre>"
   ]
  },
  {
   "cell_type": "markdown",
   "metadata": {},
   "source": [
    "## Claim2: \n",
    "## There are more firearms incidents per head in Birmingham than anywhere else in the UK"
   ]
  },
  {
   "cell_type": "markdown",
   "metadata": {},
   "source": [
    "<pre>\n",
    "So, we will have to compare the number of firearms incident per head for each of the city in UK. But, our current dataset is not enough for this analysis, so we will need a dataset which contains all such details.\n",
    "\n",
    "UK postal codes dataset<sup>[2]</sup> contains all such information, moreover it contains LSOA region details which is present in our crimes dataset so we can merge both the datasets whenever or wherever necessary. Postal codes dataset is of around 650mb is size (uncompressed) and contains almost 2.5 Million records.\n",
    "\n",
    "So, lets move forward and read the dataset and start our analysis for Claim-2.\n",
    "</pre>"
   ]
  },
  {
   "cell_type": "code",
   "execution_count": 6,
   "metadata": {},
   "outputs": [],
   "source": [
    "# Dataset do not have headers, so we will have to provide static schema to it\n",
    "uk_postcode_schema = StructType([\n",
    "                                StructField(\"postcode\", StringType(), nullable=True),\n",
    "                                StructField(\"inUse\", StringType(), nullable=True),\n",
    "                                StructField(\"latitude\", StringType(), nullable=True),\n",
    "                                StructField(\"longitude\", StringType(), nullable=True),\n",
    "                                StructField(\"easting\", StringType(), nullable=True),\n",
    "                                StructField(\"northing\", StringType(), nullable=True),\n",
    "                                StructField(\"gridRef\", StringType(), nullable=True),\n",
    "                                StructField(\"county\", StringType(), nullable=True),\n",
    "                                StructField(\"district\", StringType(), nullable=True),\n",
    "                                StructField(\"ward\", StringType(), nullable=True),\n",
    "                                StructField(\"districtCode\", StringType(), nullable=True),\n",
    "                                StructField(\"wardCode\", StringType(), nullable=True),\n",
    "                                StructField(\"country\", StringType(), nullable=True),\n",
    "                                StructField(\"countyCode\", StringType(), nullable=True),\n",
    "                                StructField(\"constituency\", StringType(), nullable=True),\n",
    "                                StructField(\"introduced\", StringType(), nullable=True),\n",
    "                                StructField(\"terminated\", StringType(), nullable=True),\n",
    "                                StructField(\"parish\", StringType(), nullable=True),\n",
    "                                StructField(\"nationalPark\", StringType(), nullable=True),\n",
    "                                StructField(\"population\", IntegerType(), nullable=True),\n",
    "                                StructField(\"households\", StringType(), nullable=True),\n",
    "                                StructField(\"builtUpArea\", StringType(), nullable=True),\n",
    "                                StructField(\"builtupsubdivision\", StringType(), nullable=True),\n",
    "                                StructField(\"lsoa_name\", StringType(), nullable=True),\n",
    "                                StructField(\"rural/urban\", StringType(), nullable=True),\n",
    "                                StructField(\"region\", StringType(), nullable=True),\n",
    "                                StructField(\"altitude\", StringType(), nullable=True)\n",
    "                            ])\n",
    "\n",
    "# Reading the dataset\n",
    "uk_postcode_df = spark.read.format(\"csv\") \\\n",
    "                            .option(\"delimiter\", ',') \\\n",
    "                            .option(\"header\", False) \\\n",
    "                            .schema(uk_postcode_schema) \\\n",
    "                            .load(\"/home/hduser/work/nikhil/dataset/postcodes.gz\")\n",
    "\n",
    "# Selecting only needful columns for further analysis\n",
    "uk_postcode_df = uk_postcode_df.select(\"district\", \"lsoa_name\", \"population\")"
   ]
  },
  {
   "cell_type": "code",
   "execution_count": 7,
   "metadata": {},
   "outputs": [
    {
     "name": "stdout",
     "output_type": "stream",
     "text": [
      "+-------------+-----------------------------------------+----------+\n",
      "|district     |lsoa_name                                |population|\n",
      "+-------------+-----------------------------------------+----------+\n",
      "|Aberdeen City|Cults, Bieldside and Milltimber West - 02|null      |\n",
      "|Aberdeen City|Cults, Bieldside and Milltimber West - 02|null      |\n",
      "|Aberdeen City|Cults, Bieldside and Milltimber West - 02|null      |\n",
      "|Aberdeenshire|Dunecht, Durris and Drumoak - 01         |null      |\n",
      "|Aberdeen City|Culter - 06                              |null      |\n",
      "|Aberdeen City|Culter - 01                              |null      |\n",
      "|Aberdeen City|Cults, Bieldside and Milltimber West - 02|null      |\n",
      "|Aberdeen City|Culter - 06                              |null      |\n",
      "|Aberdeen City|Cults, Bieldside and Milltimber West - 02|null      |\n",
      "|Aberdeen City|Cults, Bieldside and Milltimber West - 02|null      |\n",
      "+-------------+-----------------------------------------+----------+\n",
      "only showing top 10 rows\n",
      "\n"
     ]
    }
   ],
   "source": [
    "# Displaying the dataset\n",
    "\n",
    "uk_postcode_df.show(10, False)"
   ]
  },
  {
   "cell_type": "markdown",
   "metadata": {},
   "source": [
    "<pre>\n",
    "As we can see, at some places population is coming as null, so removing such data before we proceed for grouping the dataset\n",
    "</pre>"
   ]
  },
  {
   "cell_type": "code",
   "execution_count": 8,
   "metadata": {},
   "outputs": [
    {
     "data": {
      "text/plain": [
       "1490292"
      ]
     },
     "execution_count": 8,
     "metadata": {},
     "output_type": "execute_result"
    }
   ],
   "source": [
    "# Filtering the dataset\n",
    "uk_postcode_df = uk_postcode_df.filter(\"population is not null\")\n",
    "\n",
    "# Checking the count of the resulting dataset\n",
    "uk_postcode_df.count()"
   ]
  },
  {
   "cell_type": "markdown",
   "metadata": {},
   "source": [
    "<pre>\n",
    "Now, we will merge both the datasets to form the resultant dataset\n",
    "</pre>"
   ]
  },
  {
   "cell_type": "code",
   "execution_count": 9,
   "metadata": {},
   "outputs": [],
   "source": [
    "# Joining the dataset\n",
    "df_joined = uk_crimes_df.join(uk_postcode_df, \"lsoa_name\", \"inner\")\n",
    "\n",
    "# Selecting only the required columns\n",
    "df_joined = df_joined.select(\"district\", \"month\", \"population\")"
   ]
  },
  {
   "cell_type": "code",
   "execution_count": 17,
   "metadata": {},
   "outputs": [
    {
     "name": "stdout",
     "output_type": "stream",
     "text": [
      "+--------------+-------+----------+\n",
      "|      district|  month|population|\n",
      "+--------------+-------+----------+\n",
      "|Aylesbury Vale|2010-12|       149|\n",
      "|Aylesbury Vale|2010-12|       194|\n",
      "|Aylesbury Vale|2010-12|        12|\n",
      "|Aylesbury Vale|2010-12|        46|\n",
      "|Aylesbury Vale|2010-12|        72|\n",
      "|Aylesbury Vale|2010-12|        86|\n",
      "|Aylesbury Vale|2010-12|        18|\n",
      "|Aylesbury Vale|2010-12|        87|\n",
      "|Aylesbury Vale|2010-12|        51|\n",
      "|Aylesbury Vale|2010-12|         5|\n",
      "|Aylesbury Vale|2010-12|        51|\n",
      "|Aylesbury Vale|2010-12|         9|\n",
      "|Aylesbury Vale|2010-12|        13|\n",
      "|Aylesbury Vale|2010-12|        95|\n",
      "|Aylesbury Vale|2010-12|        21|\n",
      "|Aylesbury Vale|2010-12|        95|\n",
      "|Aylesbury Vale|2010-12|        20|\n",
      "|Aylesbury Vale|2010-12|        55|\n",
      "|Aylesbury Vale|2010-12|        39|\n",
      "|Aylesbury Vale|2010-12|        44|\n",
      "+--------------+-------+----------+\n",
      "only showing top 20 rows\n",
      "\n"
     ]
    }
   ],
   "source": [
    "df_joined.show()"
   ]
  },
  {
   "cell_type": "markdown",
   "metadata": {},
   "source": [
    "<pre>\n",
    "Now, as our data have been merged we will filter out crimes data only related to firearms as we have to perform analysis based on that.\n",
    "</pre>"
   ]
  },
  {
   "cell_type": "code",
   "execution_count": 18,
   "metadata": {},
   "outputs": [],
   "source": [
    "# Filtering the dataset\n",
    "\n",
    "firearms_crimes_list = [\"Public disorder and weapons\", \"Possession of weapons\"]\n",
    "\n",
    "df_filter = df_joined.where(fn.col(\"crime_type\").isin(firearms_crimes_list))"
   ]
  },
  {
   "cell_type": "code",
   "execution_count": 21,
   "metadata": {},
   "outputs": [
    {
     "name": "stdout",
     "output_type": "stream",
     "text": [
      "+----------------------------+-------+----------+\n",
      "|district                    |month  |population|\n",
      "+----------------------------+-------+----------+\n",
      "|Bath and North East Somerset|2011-09|77        |\n",
      "|Bath and North East Somerset|2011-09|62        |\n",
      "|Bath and North East Somerset|2011-09|18        |\n",
      "|Bath and North East Somerset|2011-09|18        |\n",
      "|Bath and North East Somerset|2011-09|6         |\n",
      "|Bath and North East Somerset|2011-09|17        |\n",
      "|Bath and North East Somerset|2011-09|36        |\n",
      "|Bath and North East Somerset|2011-09|33        |\n",
      "|Bath and North East Somerset|2011-09|77        |\n",
      "|Bath and North East Somerset|2011-09|45        |\n",
      "+----------------------------+-------+----------+\n",
      "only showing top 10 rows\n",
      "\n"
     ]
    }
   ],
   "source": [
    "df_filter.show(10, False)"
   ]
  },
  {
   "cell_type": "markdown",
   "metadata": {},
   "source": [
    "<pre>\n",
    "Now, we have the dataset ready with only the relevant data. We will group the dataset by each district and find the total population in each district and the count of firearms cases\n",
    "</pre>"
   ]
  },
  {
   "cell_type": "code",
   "execution_count": 22,
   "metadata": {},
   "outputs": [],
   "source": [
    "df_grouped = df_filter.groupBy(\"district\")\\\n",
    "                      .agg(fn.sum(\"population\").alias(\"tot_population\"),\n",
    "                           fn.count(\"*\").alias(\"tot_firearms_cases\"))"
   ]
  },
  {
   "cell_type": "markdown",
   "metadata": {},
   "source": [
    "<pre>\n",
    "We will now calculate number of firearms cases per head by dividing the total number of firearms cases in each district by its total population. This will give us clear idea that which district is having highest number of firearms cases per head.\n",
    "</pre>"
   ]
  },
  {
   "cell_type": "code",
   "execution_count": 25,
   "metadata": {},
   "outputs": [],
   "source": [
    "df_cases_per_head = df_grouped.withColumn(\"firearms_cases_per_head\",\n",
    "                                         fn.round(fn.col(\"tot_firearms_cases\")/fn.col(\"tot_population\"), 3))"
   ]
  },
  {
   "cell_type": "markdown",
   "metadata": {},
   "source": [
    "<pre>\n",
    "So now we have the data of number of firearms cases per head for each of the district in UK, lets check out the top 10 districts with most number of firearms cases per head.\n",
    "</pre>"
   ]
  },
  {
   "cell_type": "code",
   "execution_count": 26,
   "metadata": {},
   "outputs": [
    {
     "name": "stdout",
     "output_type": "stream",
     "text": [
      "+--------------+--------------+------------------+-----------------------+\n",
      "|district      |tot_population|tot_firearms_cases|firearms_cases_per_head|\n",
      "+--------------+--------------+------------------+-----------------------+\n",
      "|City of London|836243        |88520             |0.106                  |\n",
      "|Westminster   |9737223       |585494            |0.06                   |\n",
      "|West Somerset |37721         |1940              |0.051                  |\n",
      "|Eden          |295946        |12641             |0.043                  |\n",
      "|Copeland      |555800        |22231             |0.04                   |\n",
      "|Craven        |284252        |11422             |0.04                   |\n",
      "|South Hams    |446926        |18052             |0.04                   |\n",
      "|East Devon    |949012        |37887             |0.04                   |\n",
      "|Powys         |1210522       |48003             |0.04                   |\n",
      "|Chichester    |841535        |32428             |0.039                  |\n",
      "+--------------+--------------+------------------+-----------------------+\n",
      "only showing top 10 rows\n",
      "\n"
     ]
    }
   ],
   "source": [
    "df_cases_per_head.orderBy(\"firearms_cases_per_head\", ascending=False).show(10, False)"
   ]
  },
  {
   "cell_type": "code",
   "execution_count": 27,
   "metadata": {},
   "outputs": [
    {
     "name": "stdout",
     "output_type": "stream",
     "text": [
      "+----------+--------------+------------------+-----------------------+\n",
      "|  district|tot_population|tot_firearms_cases|firearms_cases_per_head|\n",
      "+----------+--------------+------------------+-----------------------+\n",
      "|Birmingham|      15902149|            284509|                  0.018|\n",
      "+----------+--------------+------------------+-----------------------+\n",
      "\n"
     ]
    }
   ],
   "source": [
    "df_cases_per_head.where(\"district == 'Birmingham'\").show()"
   ]
  },
  {
   "cell_type": "markdown",
   "metadata": {},
   "source": [
    "<pre>\n",
    "So, as per the analysis we did the district with most number of firearms cases per head is 'City Of London' with approximately <i>0.106 firearms cases per head</i> and not Birmingham which has only <i>0.018 firearms cases per head</i> which is almost 6-7 times lesser than the frontrunner district. This means that the claim that <b>There are more firearms incidents per head in Birmingham than anywhere else in the UK</b> is incorrect.\n",
    "\n",
    "So, with the second claim analyzed lets proceed to analyzing the final claim which states that <i>\"Crimes involving firearms are closely associated with drugs offences\"</i>\n",
    "</pre>"
   ]
  },
  {
   "cell_type": "markdown",
   "metadata": {},
   "source": [
    "## Claim-3: Crimes involving firearms are closely associated with drugs offences"
   ]
  },
  {
   "cell_type": "markdown",
   "metadata": {},
   "source": [
    "<pre>\n",
    "So, in this claim we have to analyze the association between the two crimes happening. As we cannot directly find the association between the two crimes, we will use Pearson's ChiSquareTest to find statistical significance of number of cases involving firearms on the number of cases involving drugs offences. We will do this analysis at district level and at region/LSOA level and compare the results to get full understanding of the scenario.\n",
    "\n",
    "We will join the dataframes to get postal data and crimes data in one dataframe and the will create two different dataframes, one for firearms related cases and one for drugs related cases.\n",
    "</pre>"
   ]
  },
  {
   "cell_type": "code",
   "execution_count": 9,
   "metadata": {},
   "outputs": [],
   "source": [
    "# Merging the datasets\n",
    "df_merged = uk_crimes_df.join(uk_postcode_df, \"lsoa_name\", \"inner\")\n",
    "\n",
    "df_firearms = df_merged.where(fn.col(\"crime_type\").isin([\"Public disorder and weapons\", \"Possession of weapons\"]))\n",
    "df_drugs = df_merged.where(fn.col(\"crime_type\").isin([\"Drugs\"]))"
   ]
  },
  {
   "cell_type": "markdown",
   "metadata": {},
   "source": [
    "<pre>\n",
    "Now, we can group the dataset at LSOA or region level and count the number of cases of each type. Then, we can merge both the datasets and perform the Hypothesis testing to check the significance of one column on another.\n",
    "</pre>"
   ]
  },
  {
   "cell_type": "code",
   "execution_count": 10,
   "metadata": {},
   "outputs": [],
   "source": [
    "# Aggregating the datasets at region level\n",
    "df_firearms_lsoa = df_firearms.groupBy(\"lsoa_code\").agg(fn.count(\"*\").alias(\"firearms_count_per_lsoa\"))\n",
    "df_drugs_lsoa = df_drugs.groupBy(\"lsoa_code\").agg(fn.count(\"*\").alias(\"drugs_count_per_lsoa\"))\n",
    "\n",
    "# Now merging the dataset\n",
    "df_lsoa_merged = df_firearms_lsoa.join(df_drugs_lsoa, \"lsoa_code\", \"inner\")"
   ]
  },
  {
   "cell_type": "markdown",
   "metadata": {},
   "source": [
    "<pre>\n",
    "So, now as we have the final merged dataset ready, we will perform Pearson' ChiSquareTest for Statistical Significance using Spark ML's library\n",
    "</pre>"
   ]
  },
  {
   "cell_type": "code",
   "execution_count": 16,
   "metadata": {},
   "outputs": [],
   "source": [
    "# As column vector is needed, creating vector of the column\n",
    "assembler = VectorAssembler(inputCols=[\"drugs_count_per_lsoa\"], \n",
    "                            outputCol=\"vector\", \n",
    "                            handleInvalid='skip')\n",
    "\n",
    "df_vector = assembler.transform(df_lsoa_merged)"
   ]
  },
  {
   "cell_type": "code",
   "execution_count": 17,
   "metadata": {},
   "outputs": [],
   "source": [
    "# Running the algorithm\n",
    "hypothesis_test = ChiSquareTest.test(df_vector, \"vector\", \"firearms_count_per_lsoa\").head()"
   ]
  },
  {
   "cell_type": "code",
   "execution_count": 18,
   "metadata": {},
   "outputs": [
    {
     "name": "stdout",
     "output_type": "stream",
     "text": [
      "pValues: [0.0]\n",
      "degreesOfFreedom: [4970025]\n",
      "statistics: [27308596.24978999]\n"
     ]
    }
   ],
   "source": [
    "# Checking out the results    \n",
    "\n",
    "print(\"pValues: \" + str(hypothesis_test.pValues))\n",
    "print(\"degreesOfFreedom: \" + str(hypothesis_test.degreesOfFreedom))\n",
    "print(\"statistics: \" + str(hypothesis_test.statistics))"
   ]
  },
  {
   "cell_type": "markdown",
   "metadata": {},
   "source": [
    "<pre>\n",
    "As the p-Value is less, our Hypothesis stands true.\n",
    "\n",
    "For further proof, we will do the same analysis again but this time at district level and check if the claim still holds true.\n",
    "</pre>"
   ]
  },
  {
   "cell_type": "code",
   "execution_count": 20,
   "metadata": {},
   "outputs": [],
   "source": [
    "# Aggregating the datasets at district level\n",
    "df_firearms_district = df_firearms.groupBy(\"district\").agg(fn.count(\"*\").alias(\"firearms_count_per_district\"))\n",
    "df_drugs_district = df_drugs.groupBy(\"district\").agg(fn.count(\"*\").alias(\"drugs_count_per_district\"))\n",
    "\n",
    "# Joining both the datasets\n",
    "df_district_merged = df_firearms_district.join(df_drugs_district, \"district\", \"inner\")"
   ]
  },
  {
   "cell_type": "code",
   "execution_count": 21,
   "metadata": {},
   "outputs": [],
   "source": [
    "# As column vector is needed, creating vector of the column\n",
    "assembler = VectorAssembler(inputCols=[\"drugs_count_per_district\"], \n",
    "                            outputCol=\"vector\", \n",
    "                            handleInvalid='skip')\n",
    "\n",
    "df_vector = assembler.transform(df_district_merged)"
   ]
  },
  {
   "cell_type": "code",
   "execution_count": 22,
   "metadata": {},
   "outputs": [
    {
     "name": "stdout",
     "output_type": "stream",
     "text": [
      "pValues: [0.23985465722940025]\n",
      "degreesOfFreedom: [120062]\n",
      "statistics: [120408.00000010489]\n"
     ]
    }
   ],
   "source": [
    "# Running the algorithm\n",
    "hypothesis_test = ChiSquareTest.test(df_vector, \"vector\", \"firearms_count_per_district\").head()\n",
    "\n",
    "# Checking out the results    \n",
    "print(\"pValues: \" + str(hypothesis_test.pValues))\n",
    "print(\"degreesOfFreedom: \" + str(hypothesis_test.degreesOfFreedom))\n",
    "print(\"statistics: \" + str(hypothesis_test.statistics))"
   ]
  },
  {
   "cell_type": "markdown",
   "metadata": {},
   "source": [
    "<pre>\n",
    "As the value at district level results also signifies the same results as of region/LSOA level, our previous analysis holds true.\n",
    "\n",
    "So, as per our analysis, the third claim made at the show which is <i>\"Crimes involving firearms are closely associated with drugs offences\"</i> holds true.\n",
    "\n",
    "Now, with all the claims analyzed, we will check some advantages and disadvantages of the methods and tools we have used and finally References for the document are attached at the end.\n",
    "</pre>"
   ]
  },
  {
   "cell_type": "markdown",
   "metadata": {},
   "source": [
    "----------------"
   ]
  },
  {
   "cell_type": "markdown",
   "metadata": {},
   "source": [
    "<b>Advantages:</b>\n",
    "- Apache Spark can be used on multi cluster as well, so using that allows us to scale and run our code on larger datasets.\n",
    "- ChiSquare Test helps use prove the Hypothesis so using that helps us in proving the 3rd claim.\n",
    "- ChiSquare Test is much more easy to compute than other statistics.\n",
    "- Using matplotlib for visualization is easier in Jupyter Notebook rather than using other libraries.\n",
    "- ChiSquare test can be used to check association between the two variable<sup>[10]</sup>\n",
    "\n",
    "\n",
    "<b>Disadvantages:</b>\n",
    "- Number of observations for ChiSquareTest should be more for better results.\n",
    "- Using Matplotlib for visualization prohibits us from visualizing larger datasets as it can only visualize data stored in pandas.\n",
    "- Spark when use on single cluster is not that much beneficial as we are not using its full capabilities."
   ]
  },
  {
   "cell_type": "markdown",
   "metadata": {},
   "source": [
    "### References:\n",
    "<pre>\n",
    "[1] UK Crime Department website: https://data.police.uk/data/\n",
    "[2] Postal Codes Dataset: https://s3.amazonaws.com/kf7032-20.northumbria.ac.uk/postcodes.gz\n",
    "[3] Spark Core: https://spark.apache.org/docs/latest/\n",
    "[4] Pearson's ChiSquareTest: https://dzone.com/articles/hypothesis-testing-with-spark-20\n",
    "[5] Spark Hypothesis Test: https://spark.apache.org/docs/latest/ml-statistics.html#hypothesis-testing\n",
    "[6] p-Value Significance: https://www.statsdirect.com/help/basics/p_values.htm#:~:text=The%20P%20value%2C%20or%20calculated,the%20hypothesis%20is%20being%20tested. \n",
    "[7] Hypothesis Testing & p-Value: https://towardsdatascience.com/hypothesis-testing-p-value-13b55f4b32d9\n",
    "[8] Matplotlib: https://matplotlib.org/\n",
    "[9] Chi-square Strength/Weakness: https://passel2.unl.edu/view/lesson/9beaa382bf7e/14\n",
    "[10] ChiSquare Test Advantages/Disadvantages: https://getrevising.co.uk/grids/chi_squared\n",
    "</pre>"
   ]
  }
 ],
 "metadata": {
  "kernelspec": {
   "display_name": "Python 3",
   "language": "python",
   "name": "python3"
  },
  "language_info": {
   "codemirror_mode": {
    "name": "ipython",
    "version": 3
   },
   "file_extension": ".py",
   "mimetype": "text/x-python",
   "name": "python",
   "nbconvert_exporter": "python",
   "pygments_lexer": "ipython3",
   "version": "3.7.3"
  }
 },
 "nbformat": 4,
 "nbformat_minor": 2
}
