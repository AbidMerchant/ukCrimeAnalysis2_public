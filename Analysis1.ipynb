{
 "cells": [
  {
   "cell_type": "markdown",
   "metadata": {},
   "source": [
    "# Big Data Analysis: Weapons and Drugs"
   ]
  },
  {
   "cell_type": "markdown",
   "metadata": {},
   "source": [
    "<pre>\n",
    "In this Report, we will try to prove/analyze some claims using Big Data tools like Apache Spark and Python and visualization tools like Matplotlib.\n",
    "\n",
    "-----------------------------------------------------------------------------------------------------------\n",
    "</pre>"
   ]
  },
  {
   "cell_type": "markdown",
   "metadata": {},
   "source": [
    "<pre>\n",
    "Firstly, Importing all the necessary libraries needed for the analysis.\n",
    "</pre>"
   ]
  },
  {
   "cell_type": "code",
   "execution_count": 9,
   "metadata": {},
   "outputs": [],
   "source": [
    "from pyspark.sql.session import SparkSession\n",
    "from pyspark.sql import functions as fn\n",
    "from pyspark.sql.types import *\n",
    "from pyspark.sql import Window\n",
    "\n",
    "from pyspark.ml.stat import Correlation\n",
    "from pyspark.ml.feature import VectorAssembler\n",
    "\n",
    "from matplotlib import pyplot as plt"
   ]
  },
  {
   "cell_type": "markdown",
   "metadata": {},
   "source": [
    "<pre>\n",
    "Creating a session to initialize Spark Session which will allow us to use all Spark Core related APIs. Making a function which will take <b>Application name</b> as an argument and will return a spark session variable with the appName as passed in argument\n",
    "</pre>"
   ]
  },
  {
   "cell_type": "code",
   "execution_count": 2,
   "metadata": {},
   "outputs": [],
   "source": [
    "def getSession(appName):\n",
    "    ''' This function takes Application name as argument and returns spark session variable\n",
    "    '''\n",
    "    \n",
    "    spark = SparkSession.builder.appName(appName).getOrCreate()\n",
    "    \n",
    "    return spark"
   ]
  },
  {
   "cell_type": "markdown",
   "metadata": {},
   "source": [
    "<pre>\n",
    "Initializing Spark Session using the function we created.\n",
    "</pre>"
   ]
  },
  {
   "cell_type": "code",
   "execution_count": 3,
   "metadata": {},
   "outputs": [],
   "source": [
    "spark = getSession(\"analysis\")"
   ]
  },
  {
   "cell_type": "markdown",
   "metadata": {},
   "source": [
    "<pre>\n",
    "With all the initializations done, lets proceed to the main part of our report which is analyzing the claims made at <b>“Ross Kemp and the Armed Police” broadcast 6th September 2018 by ITV</b>.\n",
    "\n",
    "There were three claims made:\n",
    "1. Violent Crime is increasing\n",
    "2. There are more firearms incidents per head in Birmingham than anywhere else in the UK\n",
    "3. Crimes involving firearms are closely associated with drugs offences\n",
    "\n",
    "Let us try to analyze each claim one by one.\n",
    "</pre>"
   ]
  },
  {
   "cell_type": "markdown",
   "metadata": {},
   "source": [
    "## Violent Crime is increasing"
   ]
  },
  {
   "cell_type": "markdown",
   "metadata": {},
   "source": [
    "<pre>\n",
    "To analyze this claim, we will need the crimes dataset, so let us read the crimes dataset initially.\n",
    "\n",
    "Before that, lets understand briefly about the dataset we are reading. The crimes dataset is in csv format and contains data about reported and logged crimes from 2010-2017. The source of the dataset is given in reference<sup>[1]</sup>. The dataset contains details at month level and force level and have 11 columns in total. As per the website<sup>[2]</sup> the coordinates of the dataset is anonymized so it might not coincide with the postal codes dataset<sup>[3]</sup>, <b>for this reason LSOA (Lower Layer Super Output Area, UK Office for National Statistics) will be used as region indicator.</b>\n",
    "\n",
    "</pre>"
   ]
  },
  {
   "cell_type": "code",
   "execution_count": 4,
   "metadata": {},
   "outputs": [],
   "source": [
    "# Function to read any dataset from the location passed in argument\n",
    "\n",
    "def read_data_from_csv(location, schema, delimiter=',', header=True):\n",
    "    ''' This function reads data from csv file and returns the dataframe\n",
    "    '''\n",
    "    df = spark.read.format(\"csv\") \\\n",
    "            .option(\"delimiter\", delimiter) \\\n",
    "            .option(\"header\", header) \\\n",
    "            .schema(schema) \\\n",
    "            .load(location)\n",
    "    \n",
    "    return df"
   ]
  },
  {
   "cell_type": "code",
   "execution_count": 5,
   "metadata": {},
   "outputs": [],
   "source": [
    "# Creating a static schema for crimes data\n",
    "crimes_schema = StructType(\n",
    "                        [StructField(\"crime_id\", StringType(), nullable=True),\n",
    "                         StructField(\"month\", StringType(),  nullable=True),\n",
    "                         StructField(\"reported_by\", StringType(), nullable=True),\n",
    "                         StructField(\"falls_within\", StringType(), nullable=True),\n",
    "                         StructField(\"longitude\", DoubleType(), nullable=True),\n",
    "                         StructField(\"latitude\", DoubleType(), nullable=True),\n",
    "                         StructField(\"location\", StringType(), nullable=True),\n",
    "                         StructField(\"lsoa_code\", StringType(), nullable=True),\n",
    "                         StructField(\"lsoa_name\", StringType(), nullable=True),\n",
    "                         StructField(\"crime_type\", StringType(), nullable=True),\n",
    "                         StructField(\"last_outcome_category\", StringType(), nullable=True),\n",
    "                         StructField(\"context\", StringType(), nullable=True)\n",
    "                         ]\n",
    "                    )\n",
    "\n",
    "# Reading crimes dataset\n",
    "crimes_df = read_data_from_csv(\"/home/hduser/work/nikhil/dataset/all_crimes18_hdr.txt.gz\",\n",
    "                               schema = crimes_schema)"
   ]
  },
  {
   "cell_type": "markdown",
   "metadata": {},
   "source": [
    "<pre>\n",
    "Checking the count of the dataset\n",
    "</pre>"
   ]
  },
  {
   "cell_type": "code",
   "execution_count": 39,
   "metadata": {},
   "outputs": [
    {
     "name": "stdout",
     "output_type": "stream",
     "text": [
      "Count:  46986836\n"
     ]
    }
   ],
   "source": [
    "print(\"Count: \",crimes_df.count())"
   ]
  },
  {
   "cell_type": "markdown",
   "metadata": {},
   "source": [
    "<pre>\n",
    "Lets see some data from the dataset\n",
    "</pre>"
   ]
  },
  {
   "cell_type": "code",
   "execution_count": 79,
   "metadata": {},
   "outputs": [
    {
     "data": {
      "text/html": [
       "<div>\n",
       "<style scoped>\n",
       "    .dataframe tbody tr th:only-of-type {\n",
       "        vertical-align: middle;\n",
       "    }\n",
       "\n",
       "    .dataframe tbody tr th {\n",
       "        vertical-align: top;\n",
       "    }\n",
       "\n",
       "    .dataframe thead th {\n",
       "        text-align: right;\n",
       "    }\n",
       "</style>\n",
       "<table border=\"1\" class=\"dataframe\">\n",
       "  <thead>\n",
       "    <tr style=\"text-align: right;\">\n",
       "      <th></th>\n",
       "      <th>crime_id</th>\n",
       "      <th>month</th>\n",
       "      <th>reported_by</th>\n",
       "      <th>falls_within</th>\n",
       "      <th>longitude</th>\n",
       "      <th>latitude</th>\n",
       "      <th>location</th>\n",
       "      <th>lsoa_code</th>\n",
       "      <th>lsoa_name</th>\n",
       "      <th>crime_type</th>\n",
       "      <th>last_outcome_category</th>\n",
       "      <th>context</th>\n",
       "    </tr>\n",
       "  </thead>\n",
       "  <tbody>\n",
       "    <tr>\n",
       "      <th>0</th>\n",
       "      <td>None</td>\n",
       "      <td>2010-12</td>\n",
       "      <td>Avon and Somerset Constabulary</td>\n",
       "      <td>Avon and Somerset Constabulary</td>\n",
       "      <td>-0.805600</td>\n",
       "      <td>51.819143</td>\n",
       "      <td>On or near Norfolk Terrace</td>\n",
       "      <td>E01017662</td>\n",
       "      <td>Aylesbury Vale 015C</td>\n",
       "      <td>Other crime</td>\n",
       "      <td>None</td>\n",
       "      <td>None</td>\n",
       "    </tr>\n",
       "    <tr>\n",
       "      <th>1</th>\n",
       "      <td>None</td>\n",
       "      <td>2010-12</td>\n",
       "      <td>Avon and Somerset Constabulary</td>\n",
       "      <td>Avon and Somerset Constabulary</td>\n",
       "      <td>-2.494366</td>\n",
       "      <td>51.418169</td>\n",
       "      <td>On or near Keynsham Road</td>\n",
       "      <td>E01014399</td>\n",
       "      <td>Bath and North East Somerset 001A</td>\n",
       "      <td>Anti-social behaviour</td>\n",
       "      <td>None</td>\n",
       "      <td>None</td>\n",
       "    </tr>\n",
       "    <tr>\n",
       "      <th>2</th>\n",
       "      <td>None</td>\n",
       "      <td>2010-12</td>\n",
       "      <td>Avon and Somerset Constabulary</td>\n",
       "      <td>Avon and Somerset Constabulary</td>\n",
       "      <td>-2.511927</td>\n",
       "      <td>51.409435</td>\n",
       "      <td>On or near Harlech Close</td>\n",
       "      <td>E01014399</td>\n",
       "      <td>Bath and North East Somerset 001A</td>\n",
       "      <td>Anti-social behaviour</td>\n",
       "      <td>None</td>\n",
       "      <td>None</td>\n",
       "    </tr>\n",
       "    <tr>\n",
       "      <th>3</th>\n",
       "      <td>None</td>\n",
       "      <td>2010-12</td>\n",
       "      <td>Avon and Somerset Constabulary</td>\n",
       "      <td>Avon and Somerset Constabulary</td>\n",
       "      <td>-2.511571</td>\n",
       "      <td>51.414895</td>\n",
       "      <td>On or near Orchard Close</td>\n",
       "      <td>E01014399</td>\n",
       "      <td>Bath and North East Somerset 001A</td>\n",
       "      <td>Anti-social behaviour</td>\n",
       "      <td>None</td>\n",
       "      <td>None</td>\n",
       "    </tr>\n",
       "    <tr>\n",
       "      <th>4</th>\n",
       "      <td>None</td>\n",
       "      <td>2010-12</td>\n",
       "      <td>Avon and Somerset Constabulary</td>\n",
       "      <td>Avon and Somerset Constabulary</td>\n",
       "      <td>-2.511927</td>\n",
       "      <td>51.409435</td>\n",
       "      <td>On or near Harlech Close</td>\n",
       "      <td>E01014399</td>\n",
       "      <td>Bath and North East Somerset 001A</td>\n",
       "      <td>Anti-social behaviour</td>\n",
       "      <td>None</td>\n",
       "      <td>None</td>\n",
       "    </tr>\n",
       "    <tr>\n",
       "      <th>5</th>\n",
       "      <td>None</td>\n",
       "      <td>2010-12</td>\n",
       "      <td>Avon and Somerset Constabulary</td>\n",
       "      <td>Avon and Somerset Constabulary</td>\n",
       "      <td>-2.511927</td>\n",
       "      <td>51.409435</td>\n",
       "      <td>On or near Harlech Close</td>\n",
       "      <td>E01014399</td>\n",
       "      <td>Bath and North East Somerset 001A</td>\n",
       "      <td>Anti-social behaviour</td>\n",
       "      <td>None</td>\n",
       "      <td>None</td>\n",
       "    </tr>\n",
       "    <tr>\n",
       "      <th>6</th>\n",
       "      <td>None</td>\n",
       "      <td>2010-12</td>\n",
       "      <td>Avon and Somerset Constabulary</td>\n",
       "      <td>Avon and Somerset Constabulary</td>\n",
       "      <td>-2.513308</td>\n",
       "      <td>51.409456</td>\n",
       "      <td>On or near Charlton Road</td>\n",
       "      <td>E01014399</td>\n",
       "      <td>Bath and North East Somerset 001A</td>\n",
       "      <td>Burglary</td>\n",
       "      <td>None</td>\n",
       "      <td>None</td>\n",
       "    </tr>\n",
       "    <tr>\n",
       "      <th>7</th>\n",
       "      <td>None</td>\n",
       "      <td>2010-12</td>\n",
       "      <td>Avon and Somerset Constabulary</td>\n",
       "      <td>Avon and Somerset Constabulary</td>\n",
       "      <td>-2.509126</td>\n",
       "      <td>51.416137</td>\n",
       "      <td>On or near St. Francis Road</td>\n",
       "      <td>E01014399</td>\n",
       "      <td>Bath and North East Somerset 001A</td>\n",
       "      <td>Burglary</td>\n",
       "      <td>None</td>\n",
       "      <td>None</td>\n",
       "    </tr>\n",
       "    <tr>\n",
       "      <th>8</th>\n",
       "      <td>None</td>\n",
       "      <td>2010-12</td>\n",
       "      <td>Avon and Somerset Constabulary</td>\n",
       "      <td>Avon and Somerset Constabulary</td>\n",
       "      <td>-2.494366</td>\n",
       "      <td>51.418169</td>\n",
       "      <td>On or near Keynsham Road</td>\n",
       "      <td>E01014399</td>\n",
       "      <td>Bath and North East Somerset 001A</td>\n",
       "      <td>Other crime</td>\n",
       "      <td>None</td>\n",
       "      <td>None</td>\n",
       "    </tr>\n",
       "    <tr>\n",
       "      <th>9</th>\n",
       "      <td>None</td>\n",
       "      <td>2010-12</td>\n",
       "      <td>Avon and Somerset Constabulary</td>\n",
       "      <td>Avon and Somerset Constabulary</td>\n",
       "      <td>-2.497767</td>\n",
       "      <td>51.420232</td>\n",
       "      <td>On or near Chandos Road</td>\n",
       "      <td>E01014400</td>\n",
       "      <td>Bath and North East Somerset 001B</td>\n",
       "      <td>Anti-social behaviour</td>\n",
       "      <td>None</td>\n",
       "      <td>None</td>\n",
       "    </tr>\n",
       "  </tbody>\n",
       "</table>\n",
       "</div>"
      ],
      "text/plain": [
       "  crime_id    month                     reported_by  \\\n",
       "0     None  2010-12  Avon and Somerset Constabulary   \n",
       "1     None  2010-12  Avon and Somerset Constabulary   \n",
       "2     None  2010-12  Avon and Somerset Constabulary   \n",
       "3     None  2010-12  Avon and Somerset Constabulary   \n",
       "4     None  2010-12  Avon and Somerset Constabulary   \n",
       "5     None  2010-12  Avon and Somerset Constabulary   \n",
       "6     None  2010-12  Avon and Somerset Constabulary   \n",
       "7     None  2010-12  Avon and Somerset Constabulary   \n",
       "8     None  2010-12  Avon and Somerset Constabulary   \n",
       "9     None  2010-12  Avon and Somerset Constabulary   \n",
       "\n",
       "                     falls_within  longitude   latitude  \\\n",
       "0  Avon and Somerset Constabulary  -0.805600  51.819143   \n",
       "1  Avon and Somerset Constabulary  -2.494366  51.418169   \n",
       "2  Avon and Somerset Constabulary  -2.511927  51.409435   \n",
       "3  Avon and Somerset Constabulary  -2.511571  51.414895   \n",
       "4  Avon and Somerset Constabulary  -2.511927  51.409435   \n",
       "5  Avon and Somerset Constabulary  -2.511927  51.409435   \n",
       "6  Avon and Somerset Constabulary  -2.513308  51.409456   \n",
       "7  Avon and Somerset Constabulary  -2.509126  51.416137   \n",
       "8  Avon and Somerset Constabulary  -2.494366  51.418169   \n",
       "9  Avon and Somerset Constabulary  -2.497767  51.420232   \n",
       "\n",
       "                      location  lsoa_code                          lsoa_name  \\\n",
       "0   On or near Norfolk Terrace  E01017662                Aylesbury Vale 015C   \n",
       "1     On or near Keynsham Road  E01014399  Bath and North East Somerset 001A   \n",
       "2     On or near Harlech Close  E01014399  Bath and North East Somerset 001A   \n",
       "3     On or near Orchard Close  E01014399  Bath and North East Somerset 001A   \n",
       "4     On or near Harlech Close  E01014399  Bath and North East Somerset 001A   \n",
       "5     On or near Harlech Close  E01014399  Bath and North East Somerset 001A   \n",
       "6     On or near Charlton Road  E01014399  Bath and North East Somerset 001A   \n",
       "7  On or near St. Francis Road  E01014399  Bath and North East Somerset 001A   \n",
       "8     On or near Keynsham Road  E01014399  Bath and North East Somerset 001A   \n",
       "9      On or near Chandos Road  E01014400  Bath and North East Somerset 001B   \n",
       "\n",
       "              crime_type last_outcome_category context  \n",
       "0            Other crime                  None    None  \n",
       "1  Anti-social behaviour                  None    None  \n",
       "2  Anti-social behaviour                  None    None  \n",
       "3  Anti-social behaviour                  None    None  \n",
       "4  Anti-social behaviour                  None    None  \n",
       "5  Anti-social behaviour                  None    None  \n",
       "6               Burglary                  None    None  \n",
       "7               Burglary                  None    None  \n",
       "8            Other crime                  None    None  \n",
       "9  Anti-social behaviour                  None    None  "
      ]
     },
     "execution_count": 79,
     "metadata": {},
     "output_type": "execute_result"
    }
   ],
   "source": [
    "crimes_df.limit(10).toPandas().head(10)"
   ]
  },
  {
   "cell_type": "markdown",
   "metadata": {},
   "source": [
    "<pre>\n",
    "Lets check the years of data we have in our dataset\n",
    "</pre>"
   ]
  },
  {
   "cell_type": "code",
   "execution_count": 80,
   "metadata": {},
   "outputs": [
    {
     "name": "stdout",
     "output_type": "stream",
     "text": [
      "+----+\n",
      "|year|\n",
      "+----+\n",
      "|2016|\n",
      "|2012|\n",
      "|2017|\n",
      "|2014|\n",
      "|2013|\n",
      "|2018|\n",
      "|2011|\n",
      "|2015|\n",
      "|2010|\n",
      "+----+\n",
      "\n"
     ]
    }
   ],
   "source": [
    "# As year column is not present in dataset, extracting year information from month column\n",
    "crimes_yearly_df = crimes_df.withColumn(\"year\", fn.substring(\"month\", 1, 4))\n",
    "crimes_yearly_df.select(\"year\").distinct().show()"
   ]
  },
  {
   "cell_type": "markdown",
   "metadata": {},
   "source": [
    "<pre>\n",
    "Now, we will check the types of crime happening as per the dataset\n",
    "\n",
    "</pre>"
   ]
  },
  {
   "cell_type": "code",
   "execution_count": 82,
   "metadata": {},
   "outputs": [
    {
     "name": "stdout",
     "output_type": "stream",
     "text": [
      "+----------------------------+\n",
      "|crime_type                  |\n",
      "+----------------------------+\n",
      "|Bicycle theft               |\n",
      "|Public order                |\n",
      "|Drugs                       |\n",
      "|Public disorder and weapons |\n",
      "|Other crime                 |\n",
      "|Robbery                     |\n",
      "|Criminal damage and arson   |\n",
      "|Theft from the person       |\n",
      "|Shoplifting                 |\n",
      "|Burglary                    |\n",
      "|Violent crime               |\n",
      "|Other theft                 |\n",
      "|Possession of weapons       |\n",
      "|Violence and sexual offences|\n",
      "|Vehicle crime               |\n",
      "|Anti-social behaviour       |\n",
      "+----------------------------+\n",
      "\n"
     ]
    }
   ],
   "source": [
    "# False is argument is given so the data displayed wont by trimmed to certain characters\n",
    "\n",
    "crimes_df.select(\"crime_type\").distinct().show(50, False)"
   ]
  },
  {
   "cell_type": "markdown",
   "metadata": {},
   "source": [
    "<pre>\n",
    "For our claim, we will need only violent crime types, so filtering out the relevant data\n",
    "</pre>"
   ]
  },
  {
   "cell_type": "code",
   "execution_count": 89,
   "metadata": {},
   "outputs": [],
   "source": [
    "violent_crimes_df = crimes_yearly_df.filter(\"crime_type in ('Public disorder and weapons',  \\\n",
    "                                             'Criminal damage and arson',  \\\n",
    "                                             'Violent crime','Possession of weapons', \\\n",
    "                                             'Violence and sexual offences')\")"
   ]
  },
  {
   "cell_type": "markdown",
   "metadata": {},
   "source": [
    "<pre>\n",
    "Let us check the number of violent crimes per year and visualize the output data to check whether the violent crimes are increasing or decreasing\n",
    "</pre>"
   ]
  },
  {
   "cell_type": "code",
   "execution_count": 92,
   "metadata": {},
   "outputs": [],
   "source": [
    "violent_crimes_grouped = violent_crimes_df.groupBy(\"year\").agg(fn.count(\"*\").alias(\"violent_crimes_count\"))\\\n",
    "                                          .orderBy(\"year\")"
   ]
  },
  {
   "cell_type": "code",
   "execution_count": 93,
   "metadata": {},
   "outputs": [
    {
     "name": "stdout",
     "output_type": "stream",
     "text": [
      "+----+--------------------+\n",
      "|year|violent_crimes_count|\n",
      "+----+--------------------+\n",
      "|2010|57580               |\n",
      "|2011|988235              |\n",
      "|2012|1387497             |\n",
      "|2013|1271151             |\n",
      "|2014|1377866             |\n",
      "|2015|1623721             |\n",
      "|2016|1843933             |\n",
      "|2017|2163148             |\n",
      "|2018|1380457             |\n",
      "+----+--------------------+\n",
      "\n"
     ]
    }
   ],
   "source": [
    "violent_crimes_grouped.show(10, False)"
   ]
  },
  {
   "cell_type": "markdown",
   "metadata": {},
   "source": [
    "<pre>\n",
    "Let us visualize the data on a graph\n",
    "</pre>"
   ]
  },
  {
   "cell_type": "code",
   "execution_count": 109,
   "metadata": {},
   "outputs": [
    {
     "data": {
      "image/png": "[encoded data removed]",
      "text/plain": [
       "<Figure size 1080x720 with 1 Axes>"
      ]
     },
     "metadata": {
      "needs_background": "light"
     },
     "output_type": "display_data"
    }
   ],
   "source": [
    "pd_violent_crimes_grouped = violent_crimes_grouped.toPandas()\n",
    "\n",
    "pd_violent_crimes_grouped.plot(x=\"year\", y=\"violent_crimes_count\", kind=\"bar\", figsize=(15, 10))\n",
    "\n",
    "plt.title(\"Year Wise data of Number of violent crimes committed\")\n",
    "plt.xlabel(\"Year\")\n",
    "plt.ylabel(\"Number of violent crimes in each year\")\n",
    "plt.show()"
   ]
  },
  {
   "cell_type": "markdown",
   "metadata": {},
   "source": [
    "<pre>\n",
    "So, as we can see in the line graph, there is a stagnant increase in number of violent cases per year but there is steep drop from 2017-2018. But, as a whole number of violent cases are increasing per each year.\n",
    "\n",
    "For further proof and analysis, lets check the increase or decrease in number of cases per each year for each type of violent crime.\n",
    "</pre>"
   ]
  },
  {
   "cell_type": "code",
   "execution_count": 104,
   "metadata": {},
   "outputs": [],
   "source": [
    "# Grouping the data by crime_type and year\n",
    "\n",
    "violent_crimes_grouped2 = violent_crimes_df.groupBy(\"crime_type\", \"year\") \\\n",
    "                                           .agg(fn.count(\"*\").alias(\"violent_crimes_count\")) \\\n",
    "                                           .orderBy(\"crime_type\",\"year\")"
   ]
  },
  {
   "cell_type": "code",
   "execution_count": 106,
   "metadata": {},
   "outputs": [],
   "source": [
    "# Pivoting crime_type data to column to visualize the data\n",
    "\n",
    "violent_crimes_pivot = violent_crimes_grouped2.groupBy(\"year\") \\\n",
    "                                              .pivot(\"crime_type\") \\\n",
    "                                              .agg(fn.sum(\"violent_crimes_count\"))"
   ]
  },
  {
   "cell_type": "code",
   "execution_count": 128,
   "metadata": {},
   "outputs": [
    {
     "data": {
      "image/png": "[encoded data removed]",
      "text/plain": [
       "<Figure size 1080x720 with 1 Axes>"
      ]
     },
     "metadata": {
      "needs_background": "light"
     },
     "output_type": "display_data"
    }
   ],
   "source": [
    "# Visualizing data on a graph\n",
    "\n",
    "pd_violent_crimes_pivot = violent_crimes_pivot.na.fill(0).toPandas()\n",
    "\n",
    "pd_violent_crimes_pivot.plot(x=\"year\", \n",
    "                               y=['Public disorder and weapons',  \n",
    "                                     'Criminal damage and arson',  \n",
    "                                     'Violent crime','Possession of weapons', \n",
    "                                     'Violence and sexual offences'], \n",
    "                               kind=\"bar\", figsize=(15, 10), style=\"o-\")\n",
    "\n",
    "plt.title(\"Year Wise data of Number of violent crimes committed per each crime type\")\n",
    "plt.xlabel(\"Year\")\n",
    "plt.ylabel(\"Number of crimes in each year\")\n",
    "plt.show()"
   ]
  },
  {
   "cell_type": "markdown",
   "metadata": {},
   "source": [
    "<pre>\n",
    "So, as per out analysis the number of violent cases are increasing with time so the claim made at the show holds true. Now, lets move on the analyze the second claim made at the show which was <b>There are more firearms incidents per head in Birmingham than anywhere else in the UK</b>."
   ]
  },
  {
   "cell_type": "markdown",
   "metadata": {},
   "source": [
    "## There are more firearms incidents per head in Birmingham than anywhere else in the UK"
   ]
  },
  {
   "cell_type": "markdown",
   "metadata": {},
   "source": [
    "<pre>\n",
    "To analyze the above claim, we will need the postal codes dataset<sup>[3]</sup>.\n",
    "\n",
    "    Postal codes dataset contains data related to coordinates and area related details. It have more the 15 columns with most of the columns containing data related to geography. Important column for us is the LSOA code which we are going to use as location indicator as the coordinates in crime dataset are anonymized as per the source<sup>[2]</sup>\n",
    "\n",
    "</pre>"
   ]
  },
  {
   "cell_type": "code",
   "execution_count": 6,
   "metadata": {},
   "outputs": [],
   "source": [
    "# Declaring static schema for the dataset\n",
    "postalcodes_schema = StructType(\n",
    "                                [\n",
    "                                    StructField(\"postcode\", StringType(), nullable=True),\n",
    "                                    StructField(\"inUse\", StringType(), nullable=True),\n",
    "                                    StructField(\"latitude\", DoubleType(), nullable=True),\n",
    "                                    StructField(\"longitude\", DoubleType(), nullable=True),\n",
    "                                    StructField(\"easting\", IntegerType(), nullable=True),\n",
    "                                    StructField(\"northing\", IntegerType(), nullable=True),\n",
    "                                    StructField(\"gridRef\", StringType(), nullable=True),\n",
    "                                    StructField(\"county\", StringType(), nullable=True),\n",
    "                                    StructField(\"district\", StringType(), nullable=True),\n",
    "                                    StructField(\"ward\", StringType(), nullable=True),\n",
    "                                    StructField(\"districtCode\", StringType(), nullable=True),\n",
    "                                    StructField(\"wardCode\", StringType(), nullable=True),\n",
    "                                    StructField(\"country\", StringType(), nullable=True),\n",
    "                                    StructField(\"countyCode\", StringType(), nullable=True),\n",
    "                                    StructField(\"constituency\", StringType(), nullable=True),\n",
    "                                    StructField(\"introduced\", TimestampType(), nullable=True),\n",
    "                                    StructField(\"terminated\", TimestampType(), nullable=True),\n",
    "                                    StructField(\"parish\", StringType(), nullable=True),\n",
    "                                    StructField(\"nationalPark\", StringType(), nullable=True),\n",
    "                                    StructField(\"population\", IntegerType(), nullable=True),\n",
    "                                    StructField(\"households\", IntegerType(), nullable=True),\n",
    "                                    StructField(\"builtUpArea\", StringType(), nullable=True),\n",
    "                                    StructField(\"builtupsubdivision\", StringType(), nullable=True),\n",
    "                                    StructField(\"lsoa_name\", StringType(), nullable=True),\n",
    "                                    StructField(\"rural/urban\", StringType(), nullable=True),\n",
    "                                    StructField(\"region\", StringType(), nullable=True),\n",
    "                                    StructField(\"altitude\", IntegerType(), nullable=True)\n",
    "                                ]\n",
    "                            )\n",
    "\n",
    "# Reading the dataset\n",
    "postalcodes_df = read_data_from_csv(\"/home/hduser/work/nikhil/dataset/postcodes.gz\",\n",
    "                               schema = postalcodes_schema, header=False)"
   ]
  },
  {
   "cell_type": "markdown",
   "metadata": {},
   "source": [
    "<pre>\n",
    "Lets check the count of postalcodes dataset\n",
    "</pre>"
   ]
  },
  {
   "cell_type": "code",
   "execution_count": 7,
   "metadata": {},
   "outputs": [
    {
     "name": "stdout",
     "output_type": "stream",
     "text": [
      "Count:  2561152\n"
     ]
    }
   ],
   "source": [
    "print(\"Count: \",postalcodes_df.count())"
   ]
  },
  {
   "cell_type": "markdown",
   "metadata": {},
   "source": [
    "<pre>\n",
    "Now, let us see some of the dataset\n",
    "</pre>"
   ]
  },
  {
   "cell_type": "code",
   "execution_count": 8,
   "metadata": {
    "scrolled": false
   },
   "outputs": [
    {
     "data": {
      "text/html": [
       "<div>\n",
       "<style scoped>\n",
       "    .dataframe tbody tr th:only-of-type {\n",
       "        vertical-align: middle;\n",
       "    }\n",
       "\n",
       "    .dataframe tbody tr th {\n",
       "        vertical-align: top;\n",
       "    }\n",
       "\n",
       "    .dataframe thead th {\n",
       "        text-align: right;\n",
       "    }\n",
       "</style>\n",
       "<table border=\"1\" class=\"dataframe\">\n",
       "  <thead>\n",
       "    <tr style=\"text-align: right;\">\n",
       "      <th></th>\n",
       "      <th>postcode</th>\n",
       "      <th>inUse</th>\n",
       "      <th>latitude</th>\n",
       "      <th>longitude</th>\n",
       "      <th>easting</th>\n",
       "      <th>northing</th>\n",
       "      <th>gridRef</th>\n",
       "      <th>county</th>\n",
       "      <th>district</th>\n",
       "      <th>ward</th>\n",
       "      <th>...</th>\n",
       "      <th>parish</th>\n",
       "      <th>nationalPark</th>\n",
       "      <th>population</th>\n",
       "      <th>households</th>\n",
       "      <th>builtUpArea</th>\n",
       "      <th>builtupsubdivision</th>\n",
       "      <th>lsoa_name</th>\n",
       "      <th>rural/urban</th>\n",
       "      <th>region</th>\n",
       "      <th>altitude</th>\n",
       "    </tr>\n",
       "  </thead>\n",
       "  <tbody>\n",
       "    <tr>\n",
       "      <th>0</th>\n",
       "      <td>AB1 0AA</td>\n",
       "      <td>No</td>\n",
       "      <td>57.101478</td>\n",
       "      <td>-2.242852</td>\n",
       "      <td>385386</td>\n",
       "      <td>801193</td>\n",
       "      <td>NJ853011</td>\n",
       "      <td>None</td>\n",
       "      <td>Aberdeen City</td>\n",
       "      <td>Lower Deeside</td>\n",
       "      <td>...</td>\n",
       "      <td>None</td>\n",
       "      <td>None</td>\n",
       "      <td>None</td>\n",
       "      <td>None</td>\n",
       "      <td>None</td>\n",
       "      <td>None</td>\n",
       "      <td>Cults, Bieldside and Milltimber West - 02</td>\n",
       "      <td>Accessible small town</td>\n",
       "      <td>None</td>\n",
       "      <td>46</td>\n",
       "    </tr>\n",
       "    <tr>\n",
       "      <th>1</th>\n",
       "      <td>AB1 0AB</td>\n",
       "      <td>No</td>\n",
       "      <td>57.102558</td>\n",
       "      <td>-2.246309</td>\n",
       "      <td>385177</td>\n",
       "      <td>801314</td>\n",
       "      <td>NJ851013</td>\n",
       "      <td>None</td>\n",
       "      <td>Aberdeen City</td>\n",
       "      <td>Lower Deeside</td>\n",
       "      <td>...</td>\n",
       "      <td>None</td>\n",
       "      <td>None</td>\n",
       "      <td>None</td>\n",
       "      <td>None</td>\n",
       "      <td>None</td>\n",
       "      <td>None</td>\n",
       "      <td>Cults, Bieldside and Milltimber West - 02</td>\n",
       "      <td>Accessible small town</td>\n",
       "      <td>None</td>\n",
       "      <td>61</td>\n",
       "    </tr>\n",
       "    <tr>\n",
       "      <th>2</th>\n",
       "      <td>AB1 0AD</td>\n",
       "      <td>No</td>\n",
       "      <td>57.100560</td>\n",
       "      <td>-2.248342</td>\n",
       "      <td>385053</td>\n",
       "      <td>801092</td>\n",
       "      <td>NJ850010</td>\n",
       "      <td>None</td>\n",
       "      <td>Aberdeen City</td>\n",
       "      <td>Lower Deeside</td>\n",
       "      <td>...</td>\n",
       "      <td>None</td>\n",
       "      <td>None</td>\n",
       "      <td>None</td>\n",
       "      <td>None</td>\n",
       "      <td>None</td>\n",
       "      <td>None</td>\n",
       "      <td>Cults, Bieldside and Milltimber West - 02</td>\n",
       "      <td>Accessible small town</td>\n",
       "      <td>None</td>\n",
       "      <td>45</td>\n",
       "    </tr>\n",
       "    <tr>\n",
       "      <th>3</th>\n",
       "      <td>AB1 0AE</td>\n",
       "      <td>No</td>\n",
       "      <td>57.084447</td>\n",
       "      <td>-2.255708</td>\n",
       "      <td>384600</td>\n",
       "      <td>799300</td>\n",
       "      <td>NO846993</td>\n",
       "      <td>None</td>\n",
       "      <td>Aberdeenshire</td>\n",
       "      <td>North Kincardine</td>\n",
       "      <td>...</td>\n",
       "      <td>None</td>\n",
       "      <td>None</td>\n",
       "      <td>None</td>\n",
       "      <td>None</td>\n",
       "      <td>None</td>\n",
       "      <td>None</td>\n",
       "      <td>Dunecht, Durris and Drumoak - 01</td>\n",
       "      <td>Accessible rural area</td>\n",
       "      <td>None</td>\n",
       "      <td>51</td>\n",
       "    </tr>\n",
       "    <tr>\n",
       "      <th>4</th>\n",
       "      <td>AB1 0AF</td>\n",
       "      <td>No</td>\n",
       "      <td>57.096659</td>\n",
       "      <td>-2.258103</td>\n",
       "      <td>384460</td>\n",
       "      <td>800660</td>\n",
       "      <td>NJ844006</td>\n",
       "      <td>None</td>\n",
       "      <td>Aberdeen City</td>\n",
       "      <td>Lower Deeside</td>\n",
       "      <td>...</td>\n",
       "      <td>None</td>\n",
       "      <td>None</td>\n",
       "      <td>None</td>\n",
       "      <td>None</td>\n",
       "      <td>None</td>\n",
       "      <td>None</td>\n",
       "      <td>Culter - 06</td>\n",
       "      <td>Accessible small town</td>\n",
       "      <td>None</td>\n",
       "      <td>46</td>\n",
       "    </tr>\n",
       "  </tbody>\n",
       "</table>\n",
       "<p>5 rows × 27 columns</p>\n",
       "</div>"
      ],
      "text/plain": [
       "  postcode inUse   latitude  longitude  easting  northing   gridRef county  \\\n",
       "0  AB1 0AA    No  57.101478  -2.242852   385386    801193  NJ853011   None   \n",
       "1  AB1 0AB    No  57.102558  -2.246309   385177    801314  NJ851013   None   \n",
       "2  AB1 0AD    No  57.100560  -2.248342   385053    801092  NJ850010   None   \n",
       "3  AB1 0AE    No  57.084447  -2.255708   384600    799300  NO846993   None   \n",
       "4  AB1 0AF    No  57.096659  -2.258103   384460    800660  NJ844006   None   \n",
       "\n",
       "        district              ward  ... parish nationalPark population  \\\n",
       "0  Aberdeen City     Lower Deeside  ...   None         None       None   \n",
       "1  Aberdeen City     Lower Deeside  ...   None         None       None   \n",
       "2  Aberdeen City     Lower Deeside  ...   None         None       None   \n",
       "3  Aberdeenshire  North Kincardine  ...   None         None       None   \n",
       "4  Aberdeen City     Lower Deeside  ...   None         None       None   \n",
       "\n",
       "  households builtUpArea builtupsubdivision  \\\n",
       "0       None        None               None   \n",
       "1       None        None               None   \n",
       "2       None        None               None   \n",
       "3       None        None               None   \n",
       "4       None        None               None   \n",
       "\n",
       "                                   lsoa_name            rural/urban region  \\\n",
       "0  Cults, Bieldside and Milltimber West - 02  Accessible small town   None   \n",
       "1  Cults, Bieldside and Milltimber West - 02  Accessible small town   None   \n",
       "2  Cults, Bieldside and Milltimber West - 02  Accessible small town   None   \n",
       "3           Dunecht, Durris and Drumoak - 01  Accessible rural area   None   \n",
       "4                                Culter - 06  Accessible small town   None   \n",
       "\n",
       "  altitude  \n",
       "0       46  \n",
       "1       61  \n",
       "2       45  \n",
       "3       51  \n",
       "4       46  \n",
       "\n",
       "[5 rows x 27 columns]"
      ]
     },
     "execution_count": 8,
     "metadata": {},
     "output_type": "execute_result"
    }
   ],
   "source": [
    "postalcodes_df.limit(10).toPandas().head()"
   ]
  },
  {
   "cell_type": "markdown",
   "metadata": {},
   "source": [
    "<pre>\n",
    "Now, we have to join both our dataset using lsoa_name column. But, as the size of our dataset is huge, its better to first aggregate them individually and then join both the dataframes and the aggregate the data at district level to get all the data at district level. Finally, we can calculate number of firearms cases per head\n",
    "</pre>"
   ]
  },
  {
   "cell_type": "code",
   "execution_count": 13,
   "metadata": {},
   "outputs": [],
   "source": [
    "# Getting only data related to firearms cases\n",
    "crimes_firearms = crimes_df.where(\"crime_type in ('Public disorder and weapons', 'Possession of weapons')\")\n",
    "\n",
    "# Aggregating the data at lsoa/region level\n",
    "crimes_lsoa = crimes_firearms.groupBy(\"lsoa_name\").agg(fn.count(\"*\").alias(\"count_crimes_per_lsoa\"))\n",
    "\n",
    "# Aggregating the data at district & lsoa level\n",
    "postalcodes_grouped = postalcodes_df.groupBy(\"district\", \"lsoa_name\") \\\n",
    "                                    .agg(fn.sum(\"population\").alias(\"total_population_per_lsoa\"))\n",
    "\n",
    "# Joining both the dataframes finally\n",
    "df_join = crimes_lsoa.join(postalcodes_grouped, [\"lsoa_name\"], \"left\")"
   ]
  },
  {
   "cell_type": "code",
   "execution_count": 16,
   "metadata": {},
   "outputs": [
    {
     "name": "stdout",
     "output_type": "stream",
     "text": [
      "+--------------------+---------------------+--------------------+-------------------------+\n",
      "|           lsoa_name|count_crimes_per_lsoa|            district|total_population_per_lsoa|\n",
      "+--------------------+---------------------+--------------------+-------------------------+\n",
      "|       Bradford 039G|                  376|            Bradford|                     1138|\n",
      "|      Cambridge 002B|                   11|           Cambridge|                     1421|\n",
      "|Huntingdonshire 008E|                   15|     Huntingdonshire|                     1707|\n",
      "|Cheshire West and...|                    2|Cheshire West and...|                     1512|\n",
      "|          Derby 004C|                   10|               Derby|                     1484|\n",
      "|       Cornwall 066C|                    9|            Cornwall|                     2609|\n",
      "|       Plymouth 031A|                   16|            Plymouth|                     1543|\n",
      "|       Tameside 029D|                    5|            Tameside|                     1355|\n",
      "|       Trafford 008B|                   10|            Trafford|                     1646|\n",
      "|East Hertfordshir...|                   33|  East Hertfordshire|                     2134|\n",
      "|North Lincolnshir...|                   30|  North Lincolnshire|                     1626|\n",
      "|      Blackpool 010D|                  136|           Blackpool|                     1394|\n",
      "|Oadby and Wigston...|                    4|   Oadby and Wigston|                     1786|\n",
      "|Barking and Dagen...|                   12|Barking and Dagenham|                     1482|\n",
      "|         Barnet 021C|                   10|              Barnet|                     1601|\n",
      "|        Croydon 044D|                    9|             Croydon|                     1332|\n",
      "|      Greenwich 005D|                    9|           Greenwich|                     1700|\n",
      "|        Hackney 024E|                   17|             Hackney|                     1463|\n",
      "|Hammersmith and F...|                   12|Hammersmith and F...|                     1768|\n",
      "|       Hounslow 014C|                   45|            Hounslow|                     2063|\n",
      "+--------------------+---------------------+--------------------+-------------------------+\n",
      "only showing top 20 rows\n",
      "\n"
     ]
    }
   ],
   "source": [
    "df_join.show()"
   ]
  },
  {
   "cell_type": "markdown",
   "metadata": {},
   "source": [
    "<pre>\n",
    "Finally, we can aggregate the data at district level and calculate the number of firearms cases per head\n",
    "</pre>"
   ]
  },
  {
   "cell_type": "code",
   "execution_count": 17,
   "metadata": {},
   "outputs": [],
   "source": [
    "df_join2 = df_join.groupBy(\"district\")\\\n",
    "                                    .agg(\n",
    "                                        fn.sum(\"count_crimes_per_lsoa\").alias(\"firearms_cases_per_district\"),\n",
    "                                        fn.sum(\"total_population_per_lsoa\").alias(\"total_population_per_district\")\n",
    "                                    )"
   ]
  },
  {
   "cell_type": "code",
   "execution_count": 18,
   "metadata": {},
   "outputs": [
    {
     "name": "stdout",
     "output_type": "stream",
     "text": [
      "+--------------------+---------------------------+-----------------------------+\n",
      "|            district|firearms_cases_per_district|total_population_per_district|\n",
      "+--------------------+---------------------------+-----------------------------+\n",
      "|           Worcester|                       1214|                        94639|\n",
      "|           Charnwood|                       1175|                       160603|\n",
      "|      North Kesteven|                        224|                        93761|\n",
      "|       Epping Forest|                        723|                       124605|\n",
      "|             Waveney|                        939|                       113911|\n",
      "|                Arun|                       1023|                       144927|\n",
      "|              Stroud|                        331|                       102085|\n",
      "|          New Forest|                        806|                       167194|\n",
      "|           Sedgemoor|                        190|                        78048|\n",
      "|              Maldon|                        169|                        54046|\n",
      "|            Worthing|                        824|                        98528|\n",
      "|           Guildford|                        916|                       129739|\n",
      "|             Fareham|                        443|                       102759|\n",
      "|      North Tyneside|                       1317|                       189002|\n",
      "|              Bolton|                       2533|                       273775|\n",
      "|Central Bedfordshire|                        888|                       230580|\n",
      "|      Wellingborough|                        517|                        72612|\n",
      "|        Surrey Heath|                        350|                        77396|\n",
      "|          Spelthorne|                        529|                        92684|\n",
      "|              Slough|                       1522|                       138650|\n",
      "+--------------------+---------------------------+-----------------------------+\n",
      "only showing top 20 rows\n",
      "\n"
     ]
    }
   ],
   "source": [
    "# Displaying the data\n",
    "\n",
    "df_join2.show()"
   ]
  },
  {
   "cell_type": "code",
   "execution_count": 20,
   "metadata": {},
   "outputs": [],
   "source": [
    "# Counting number of firearms cases per head in each district\n",
    "\n",
    "df_per_head = df_join2.withColumn(\"firearms_cases_per_head\", \n",
    "                                    fn.round(\n",
    "                                    (fn.col(\"firearms_cases_per_district\")/fn.col(\"total_population_per_district\")), 3)\n",
    "                                 )"
   ]
  },
  {
   "cell_type": "code",
   "execution_count": 21,
   "metadata": {},
   "outputs": [
    {
     "name": "stdout",
     "output_type": "stream",
     "text": [
      "+---------------------------+---------------------------+-----------------------------+-----------------------+\n",
      "|district                   |firearms_cases_per_district|total_population_per_district|firearms_cases_per_head|\n",
      "+---------------------------+---------------------------+-----------------------------+-----------------------+\n",
      "|City of London             |788                        |7355                         |0.107                  |\n",
      "|Uttlesford                 |3265                       |72928                        |0.045                  |\n",
      "|Westminster                |5671                       |214598                       |0.026                  |\n",
      "|Islington                  |3383                       |204780                       |0.017                  |\n",
      "|Camden                     |3694                       |218856                       |0.017                  |\n",
      "|Crawley                    |1710                       |106542                       |0.016                  |\n",
      "|Hammersmith and Fulham     |2759                       |181178                       |0.015                  |\n",
      "|Ipswich                    |1974                       |130526                       |0.015                  |\n",
      "|Manchester                 |7659                       |495788                       |0.015                  |\n",
      "|Stevenage                  |1137                       |83999                        |0.014                  |\n",
      "|Lambeth                    |4266                       |301530                       |0.014                  |\n",
      "|Exeter                     |1580                       |116328                       |0.014                  |\n",
      "|Nottingham                 |4273                       |304192                       |0.014                  |\n",
      "|Lincoln                    |1311                       |93460                        |0.014                  |\n",
      "|Southwark                  |3734                       |285446                       |0.013                  |\n",
      "|Southampton                |2976                       |236846                       |0.013                  |\n",
      "|Worcester                  |1214                       |94639                        |0.013                  |\n",
      "|Tower Hamlets              |3218                       |252063                       |0.013                  |\n",
      "|Newcastle upon Tyne        |3222                       |272712                       |0.012                  |\n",
      "|Salford                    |2701                       |229305                       |0.012                  |\n",
      "|Portsmouth                 |2418                       |202073                       |0.012                  |\n",
      "|Hackney                    |2884                       |244412                       |0.012                  |\n",
      "|Peterborough               |2012                       |173827                       |0.012                  |\n",
      "|Leicester                  |3945                       |328361                       |0.012                  |\n",
      "|Watford                    |1066                       |90186                        |0.012                  |\n",
      "|Oxford                     |1749                       |150371                       |0.012                  |\n",
      "|Liverpool                  |5480                       |459310                       |0.012                  |\n",
      "|Lewisham                   |3171                       |274536                       |0.012                  |\n",
      "|Kingston upon Hull, City of|3132                       |253389                       |0.012                  |\n",
      "|Brent                      |3551                       |307629                       |0.012                  |\n",
      "+---------------------------+---------------------------+-----------------------------+-----------------------+\n",
      "only showing top 30 rows\n",
      "\n"
     ]
    }
   ],
   "source": [
    "# Checking the top 15 district with highest number of firearms cases per head\n",
    "\n",
    "df_per_head.orderBy(\"firearms_cases_per_head\", ascending=False).show(30, False)"
   ]
  },
  {
   "cell_type": "markdown",
   "metadata": {},
   "source": [
    "<pre>\n",
    "So, as we can see Birmingham is not having most number of firearms cases per head, now let us check where Birmingham actually stand in the list by ranking the data\n",
    "</pre>"
   ]
  },
  {
   "cell_type": "code",
   "execution_count": 23,
   "metadata": {},
   "outputs": [
    {
     "name": "stdout",
     "output_type": "stream",
     "text": [
      "+--------------------+---------------------------+-----------------------------+-----------------------+----+\n",
      "|            district|firearms_cases_per_district|total_population_per_district|firearms_cases_per_head|rank|\n",
      "+--------------------+---------------------------+-----------------------------+-----------------------+----+\n",
      "|      City of London|                        788|                         7355|                  0.107|   1|\n",
      "|          Uttlesford|                       3265|                        72928|                  0.045|   2|\n",
      "|         Westminster|                       5671|                       214598|                  0.026|   3|\n",
      "|              Camden|                       3694|                       218856|                  0.017|   4|\n",
      "|           Islington|                       3383|                       204780|                  0.017|   4|\n",
      "|             Crawley|                       1710|                       106542|                  0.016|   6|\n",
      "|Hammersmith and F...|                       2759|                       181178|                  0.015|   7|\n",
      "|             Ipswich|                       1974|                       130526|                  0.015|   7|\n",
      "|          Manchester|                       7659|                       495788|                  0.015|   7|\n",
      "|             Lambeth|                       4266|                       301530|                  0.014|  10|\n",
      "|           Stevenage|                       1137|                        83999|                  0.014|  10|\n",
      "|             Lincoln|                       1311|                        93460|                  0.014|  10|\n",
      "|              Exeter|                       1580|                       116328|                  0.014|  10|\n",
      "|          Nottingham|                       4273|                       304192|                  0.014|  10|\n",
      "|       Tower Hamlets|                       3218|                       252063|                  0.013|  15|\n",
      "|           Southwark|                       3734|                       285446|                  0.013|  15|\n",
      "|           Worcester|                       1214|                        94639|                  0.013|  15|\n",
      "|         Southampton|                       2976|                       236846|                  0.013|  15|\n",
      "|              Oxford|                       1749|                       150371|                  0.012|  19|\n",
      "|             Salford|                       2701|                       229305|                  0.012|  19|\n",
      "+--------------------+---------------------------+-----------------------------+-----------------------+----+\n",
      "only showing top 20 rows\n",
      "\n"
     ]
    }
   ],
   "source": [
    "# Ranking the data using a partition\n",
    "\n",
    "win = Window.orderBy(fn.desc(\"firearms_cases_per_head\"))\n",
    "\n",
    "df_per_head_ranked = df_per_head.withColumn(\"rank\", fn.rank().over(win))\n",
    "\n",
    "df_per_head_ranked.orderBy(\"rank\").show()"
   ]
  },
  {
   "cell_type": "code",
   "execution_count": 24,
   "metadata": {},
   "outputs": [
    {
     "name": "stdout",
     "output_type": "stream",
     "text": [
      "+----------+---------------------------+-----------------------------+-----------------------+----+\n",
      "|  district|firearms_cases_per_district|total_population_per_district|firearms_cases_per_head|rank|\n",
      "+----------+---------------------------+-----------------------------+-----------------------+----+\n",
      "|Birmingham|                       9317|                      1051327|                  0.009|  55|\n",
      "+----------+---------------------------+-----------------------------+-----------------------+----+\n",
      "\n"
     ]
    }
   ],
   "source": [
    "# Checking the rank of Birmingham District\n",
    "\n",
    "df_per_head_ranked.where(\"district == 'Birmingham'\").show()"
   ]
  },
  {
   "cell_type": "markdown",
   "metadata": {},
   "source": [
    "<pre>\n",
    "So as per out analysis we did, Birmingham do not have the most number of firearms cases per head compared to other districs in UK. The district with most number of firearms cases per head is 'City of London' with 0.107 number of firearms cases per head. <b>Birmingham stands at 55th position</b> when compared to other districts in UK.\n",
    "\n",
    "So with 2nd claim now analyzed, let us move to proving our 3rd and last claim which is <b>Crimes involving firearms are closely associated with drugs offences.</b>\n",
    "</pre>"
   ]
  },
  {
   "cell_type": "markdown",
   "metadata": {},
   "source": [
    "## Crimes involving firearms are closely associated with drugs offences"
   ]
  },
  {
   "cell_type": "markdown",
   "metadata": {},
   "source": [
    "<pre>\n",
    "To find the association between crimes involving firearms and drugs offences lets count the number of those crimes happening at region or LSOA level. Visualizing these data will give us rough idea how the two column values are related to each other. Finally we can use some methods to find association between the two columns.\n",
    "</pre>"
   ]
  },
  {
   "cell_type": "code",
   "execution_count": 6,
   "metadata": {},
   "outputs": [],
   "source": [
    "# Filtering crimes type as per need and grouping the data per each region/LSOA\n",
    "\n",
    "crimes_firearms = crimes_df.where(\"crime_type in ('Public disorder and weapons', 'Possession of weapons')\")\n",
    "crimes_firearms_grouped = crimes_firearms.groupBy(\"lsoa_code\").agg(fn.count(\"*\").alias(\"firearms_count_per_lsoa\"))\n",
    "\n",
    "crimes_drugs = crimes_df.where(\"crime_type in ('Drugs')\")\n",
    "crimes_drugs_grouped = crimes_drugs.groupBy(\"lsoa_code\").agg(fn.count(\"*\").alias(\"drugs_count_per_lsoa\"))"
   ]
  },
  {
   "cell_type": "code",
   "execution_count": 7,
   "metadata": {},
   "outputs": [],
   "source": [
    "# Lets perform inner join to merge the datasets. We are performing inner join to make sure both the \n",
    "# necessary count data columns contains data in it\n",
    "\n",
    "crimes_join = crimes_firearms_grouped.join(crimes_drugs_grouped, \"lsoa_code\", \"inner\")"
   ]
  },
  {
   "cell_type": "markdown",
   "metadata": {},
   "source": [
    "<pre>\n",
    "Now that we have the count at each type of crime at LSOA level, we will find correlation between them to check the amount of association the two columns have.\n",
    "\n",
    "Correlation<sup>[4][5]</sup> is a powerful method which allows us to find association between two columns. Correlation can be found by two different algorithms<sup>[4]</sup>, we will try to find the correlation using both the algorithms for holistic understanding.\n",
    "</pre>"
   ]
  },
  {
   "cell_type": "code",
   "execution_count": 10,
   "metadata": {},
   "outputs": [
    {
     "name": "stdout",
     "output_type": "stream",
     "text": [
      "+---------+-----------------------+--------------------+\n",
      "|lsoa_code|firearms_count_per_lsoa|drugs_count_per_lsoa|\n",
      "+---------+-----------------------+--------------------+\n",
      "|E01000078|                     14|                  42|\n",
      "|E01000138|                      6|                  20|\n",
      "|E01000622|                     10|                  61|\n",
      "|E01000781|                      8|                  22|\n",
      "|E01000838|                      3|                   5|\n",
      "|E01000975|                     98|                 165|\n",
      "|E01001192|                     14|                  72|\n",
      "|E01001418|                      4|                  19|\n",
      "|E01001697|                     14|                  78|\n",
      "|E01001876|                     35|                  95|\n",
      "|E01001976|                      4|                  32|\n",
      "|E01002393|                     12|                  58|\n",
      "|E01002807|                     14|                  20|\n",
      "|E01002965|                     20|                 113|\n",
      "|E01003154|                     14|                  35|\n",
      "|E01003214|                     28|                  67|\n",
      "|E01003637|                      3|                  16|\n",
      "|E01003779|                      2|                   7|\n",
      "|E01004116|                      1|                  12|\n",
      "|E01004173|                     10|                  20|\n",
      "+---------+-----------------------+--------------------+\n",
      "only showing top 20 rows\n",
      "\n"
     ]
    }
   ],
   "source": [
    "# Displaying joined data\n",
    "crimes_join.show()"
   ]
  },
  {
   "cell_type": "markdown",
   "metadata": {},
   "source": [
    "<pre>\n",
    "First finding the correlation between the two columns using spearman's correlation algorithm.\n",
    "</pre>"
   ]
  },
  {
   "cell_type": "code",
   "execution_count": 11,
   "metadata": {},
   "outputs": [],
   "source": [
    "# Finding vector of the columns as correlation takes vector as input\n",
    "# handleInvalid='skip' argument skips invalid data like null and refrains from getting into errors\n",
    "\n",
    "assembler = VectorAssembler(inputCols=[\"firearms_count_per_lsoa\", \"drugs_count_per_lsoa\"], \n",
    "                            outputCol=\"vector\", handleInvalid='skip')\n",
    "\n",
    "vector_df = assembler.transform(crimes_join).select(\"vector\")"
   ]
  },
  {
   "cell_type": "code",
   "execution_count": 15,
   "metadata": {},
   "outputs": [],
   "source": [
    "# Calculating the correlation matrix and visualizing the matrix\n",
    "\n",
    "correlation = Correlation.corr(vector_df, \"vector\", method=\"spearman\")\n",
    "\n",
    "correlation = correlation.collect()[0][0]\n",
    "correlation_matrix = correlation.toArray().tolist()"
   ]
  },
  {
   "cell_type": "code",
   "execution_count": 17,
   "metadata": {},
   "outputs": [
    {
     "data": {
      "image/png": "[encoded data removed]",
      "text/plain": [
       "<Figure size 432x288 with 2 Axes>"
      ]
     },
     "metadata": {
      "needs_background": "light"
     },
     "output_type": "display_data"
    }
   ],
   "source": [
    "# Visualizing correlation matrix on a chart\n",
    "\n",
    "fig = plt.figure(111)\n",
    "\n",
    "# Setting the axes to display the chart\n",
    "ax = fig.add_subplot(111)\n",
    "\n",
    "# Setting all necessary parameters of the axes\n",
    "ax.set_title(\"Correlation matrix (Spearman's Algorithm)\")\n",
    "ax.set_xticklabels([\"\",\"firearms_count_per_lsoa\", \"drugs_count_per_lsoa\"])\n",
    "ax.set_yticklabels([\"\",\"firearms_count_per_lsoa\", \"drugs_count_per_lsoa\"])\n",
    "cax = ax.matshow(correlation_matrix, vmax=1, vmin=-1)\n",
    "fig.colorbar(cax)\n",
    "plt.show()"
   ]
  },
  {
   "cell_type": "markdown",
   "metadata": {},
   "source": [
    "<pre>\n",
    "As we can see that correlation between the two columns as per Spearman's correlation method is very strong, let us now check the correlation again using Pearson's Algorithm\n",
    "</pre>"
   ]
  },
  {
   "cell_type": "code",
   "execution_count": 18,
   "metadata": {},
   "outputs": [],
   "source": [
    "# Calculating the correlation matrix using Pearson's Algorithm and visualizing the matrix\n",
    "\n",
    "correlation = Correlation.corr(vector_df, \"vector\", method=\"pearson\")\n",
    "\n",
    "correlation = correlation.collect()[0][0]\n",
    "correlation_matrix = correlation.toArray().tolist()"
   ]
  },
  {
   "cell_type": "code",
   "execution_count": 19,
   "metadata": {},
   "outputs": [
    {
     "data": {
      "image/png": "[encoded data removed]",
      "text/plain": [
       "<Figure size 432x288 with 2 Axes>"
      ]
     },
     "metadata": {
      "needs_background": "light"
     },
     "output_type": "display_data"
    }
   ],
   "source": [
    "# Visualizing correlation matrix on a chart\n",
    "\n",
    "fig = plt.figure(111)\n",
    "\n",
    "# Setting the axes to display the chart\n",
    "ax = fig.add_subplot(111)\n",
    "\n",
    "# Setting all necessary parameters of the axes\n",
    "ax.set_title(\"Correlation matrix (Pearson's Algorithm)\")\n",
    "ax.set_xticklabels([\"\",\"firearms_count_per_lsoa\", \"drugs_count_per_lsoa\"])\n",
    "ax.set_yticklabels([\"\",\"firearms_count_per_lsoa\", \"drugs_count_per_lsoa\"])\n",
    "cax = ax.matshow(correlation_matrix, vmax=1, vmin=-1)\n",
    "fig.colorbar(cax)\n",
    "plt.show()"
   ]
  },
  {
   "cell_type": "markdown",
   "metadata": {},
   "source": [
    "<pre>\n",
    "So, as we can see there is strong correlation between the two columns as per Pearson's Algorithm as well. So as per our analysis, <b>we can deduce that the cases related to firearms are strongly related to Drugs offences.</b>\n",
    "\n",
    "-----------------------------------------------------------------------------------------------------------\n",
    "\n",
    "With all the claims analyzed, lets check some of the advantages and disadvantages of the methods and tools we have used to prove/analyze the claims and at the end of the report, References are attached as well.\n",
    "</pre>"
   ]
  },
  {
   "cell_type": "markdown",
   "metadata": {},
   "source": [
    "<b> Advantages: </b>\n",
    "- We have used static schema to make the read performance better for CSV files.\n",
    "- Using function to do repetitive tasks makes code reusable and maintainable.\n",
    "- Docstring is given in each function which documents each function properly so whenever it is to be used again by someone else also then the new developer knows the importance and use of the function\n",
    "- Correlation method is a powerful tool through which association can be found between the columns\n",
    "\n",
    "<b> Disadvantages: </b>\n",
    "- To use static schema, schema have to be known before hand other wise it may give exception or in worst case maybe end up reading data in corrupted format.\n",
    "- Correlation can only find the relation between the two columns but cannot tell if one column is causing the other column to happen, for that series of experiments are needed to be performed.\n",
    "- As we are only having one program file, use of functional program might not be that important, but on corporate level with mutiple scripts, reusable code would be more beneficial."
   ]
  },
  {
   "cell_type": "markdown",
   "metadata": {},
   "source": [
    "### References:\n",
    "<pre>\n",
    "\n",
    "[1] Crimes dataset: https://data.police.uk/data/\n",
    "[2] Location Anonymization: https://data.police.uk/about/#location-anonymisation\n",
    "[3] Postal Codes dataset: https://www.freemaptools.com/download-uk-postcode-lat-lng.htm\n",
    "[4] Correlation in Spark: https://spark.apache.org/docs/2.2.0/ml-statistics.html#correlation\n",
    "[5] Correlation importance: https://www.psychologydiscussion.net/educational-psychology/statistics/correlation-definitions-types-and-importance-statistics/2788\n",
    "[6] Spark Core Documentation: https://spark.apache.org/docs/latest/sql-programming-guide.html\n",
    "[7] Benefits of functional programming: https://julien.danjou.info/python-and-functional-programming/\n",
    "[8] Functional Programming in Python: https://stackabuse.com/functional-programming-in-python/\n",
    "[9] Correlation uses: http://archive.dimacs.rutgers.edu/dci/2006/Lecture13_Correlation.pdf\n",
    "</pre>"
   ]
  }
 ],
 "metadata": {
  "kernelspec": {
   "display_name": "Python 3",
   "language": "python",
   "name": "python3"
  },
  "language_info": {
   "codemirror_mode": {
    "name": "ipython",
    "version": 3
   },
   "file_extension": ".py",
   "mimetype": "text/x-python",
   "name": "python",
   "nbconvert_exporter": "python",
   "pygments_lexer": "ipython3",
   "version": "3.7.3"
  }
 },
 "nbformat": 4,
 "nbformat_minor": 2
}
